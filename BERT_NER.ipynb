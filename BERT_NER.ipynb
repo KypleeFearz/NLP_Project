{
 "cells": [
  {
   "cell_type": "markdown",
   "id": "1b3b2c0b-a612-4843-9938-d6257d1551e4",
   "metadata": {},
   "source": [
    "## 1. Imports"
   ]
  },
  {
   "cell_type": "code",
   "execution_count": 2,
   "id": "97e862ba-0f63-4b9b-864e-7a59dbdf7dbf",
   "metadata": {},
   "outputs": [
    {
     "name": "stdout",
     "output_type": "stream",
     "text": [
      "WARNING:tensorflow:From C:\\Users\\nmilo\\anaconda3\\Lib\\site-packages\\tf_keras\\src\\losses.py:2976: The name tf.losses.sparse_softmax_cross_entropy is deprecated. Please use tf.compat.v1.losses.sparse_softmax_cross_entropy instead.\n",
      "\n"
     ]
    }
   ],
   "source": [
    "import os\n",
    "import json\n",
    "import torch\n",
    "import numpy as np\n",
    "from pathlib import Path\n",
    "from datasets import Dataset, DatasetDict\n",
    "from sklearn.metrics import precision_recall_fscore_support, accuracy_score\n",
    "import matplotlib.pyplot as plt\n",
    "import seaborn as sns\n",
    "\n",
    "from transformers import (\n",
    "    AutoTokenizer,\n",
    "    AutoModelForTokenClassification,\n",
    "    Trainer,\n",
    "    TrainingArguments,\n",
    "    DataCollatorForTokenClassification,\n",
    ")"
   ]
  },
  {
   "cell_type": "markdown",
   "id": "ca55bab6-edcf-4182-9175-0b60f6c8cfd3",
   "metadata": {},
   "source": [
    "## 2. DATA LOADING"
   ]
  },
  {
   "cell_type": "code",
   "execution_count": 3,
   "id": "81bdc49b-5d25-4ca9-a49e-80aae9b6e89a",
   "metadata": {},
   "outputs": [
    {
     "name": "stdout",
     "output_type": "stream",
     "text": [
      "Dataset sizes - Train: 51, Dev: 23, Test: 248\n"
     ]
    }
   ],
   "source": [
    "# Deine lokalen Windows-Pfade\n",
    "TRAIN_DIR = Path(r\"C:\\Users\\nmilo\\OneDrive\\Desktop\\Master\\Semester2\\NLP\\project\\dataset\\train\")\n",
    "DEV_DIR   = Path(r\"C:\\Users\\nmilo\\OneDrive\\Desktop\\Master\\Semester2\\NLP\\project\\dataset\\dev\")\n",
    "TEST_DIR  = Path(r\"C:\\Users\\nmilo\\OneDrive\\Desktop\\Master\\Semester2\\NLP\\project\\dataset\\test\")\n",
    "\n",
    "assert TRAIN_DIR.exists(), f\"Train-Ordner nicht gefunden: {TRAIN_DIR}\"\n",
    "assert DEV_DIR.exists(),   f\"Dev-Ordner nicht gefunden:   {DEV_DIR}\"\n",
    "assert TEST_DIR.exists(),  f\"Test-Ordner nicht gefunden:  {TEST_DIR}\"\n",
    "def load_docie_docs(folder: Path, recursive: bool = False):\n",
    "    \"\"\"Load DocIE documents from JSON files.\"\"\"\n",
    "    docs = []\n",
    "    pattern = \"**/*.json\" if recursive else \"*.json\"\n",
    "    for file in folder.glob(pattern):\n",
    "        data = json.loads(file.read_text(encoding=\"utf-8\"))\n",
    "        if isinstance(data, list):\n",
    "            docs.extend(data)\n",
    "        else:\n",
    "            docs.append(data)\n",
    "    return docs\n",
    "\n",
    "# Load data\n",
    "train_docs = load_docie_docs(TRAIN_DIR)\n",
    "dev_docs = load_docie_docs(DEV_DIR)\n",
    "test_docs = load_docie_docs(TEST_DIR, recursive=True)\n",
    "\n",
    "print(f\"Dataset sizes - Train: {len(train_docs)}, Dev: {len(dev_docs)}, Test: {len(test_docs)}\")"
   ]
  },
  {
   "cell_type": "markdown",
   "id": "0fb7ba20-3745-4c32-931d-5ae68654edfd",
   "metadata": {},
   "source": [
    "## 3. LABEL MAPPING SETUP"
   ]
  },
  {
   "cell_type": "code",
   "execution_count": 4,
   "id": "96443f17-e814-4ad1-8a2d-6127988ce06d",
   "metadata": {},
   "outputs": [
    {
     "name": "stdout",
     "output_type": "stream",
     "text": [
      "Number of NER labels: 39\n",
      "Entity types: ['CARDINAL', 'DATE', 'EVENT', 'FAC', 'GPE', 'LANGUAGE', 'LAW', 'LOC', 'MISC', 'MONEY', 'NORP', 'ORDINAL', 'ORG', 'PERCENT', 'PERSON', 'PRODUCT', 'QUANTITY', 'TIME', 'WORK_OF_ART']\n"
     ]
    }
   ],
   "source": [
    "# Extract entity types from training data\n",
    "entity_types = set()\n",
    "for doc in train_docs:\n",
    "    if \"entity_label_set\" in doc:\n",
    "        entity_types.update(doc[\"entity_label_set\"])\n",
    "    elif \"NER_label_set\" in doc:\n",
    "        entity_types.update(doc[\"NER_label_set\"])\n",
    "\n",
    "entity_types = sorted(list(entity_types))\n",
    "\n",
    "# Create BIO labels\n",
    "ner_labels = [\"O\"]\n",
    "for entity_type in entity_types:\n",
    "    ner_labels.extend([f\"B-{entity_type}\", f\"I-{entity_type}\"])\n",
    "\n",
    "# Create label mappings\n",
    "label2id = {label: idx for idx, label in enumerate(ner_labels)}\n",
    "id2label = {idx: label for label, idx in label2id.items()}\n",
    "\n",
    "print(f\"Number of NER labels: {len(ner_labels)}\")\n",
    "print(f\"Entity types: {entity_types}\")"
   ]
  },
  {
   "cell_type": "markdown",
   "id": "d83eb915-fccb-4d89-abe6-4df65db5927e",
   "metadata": {},
   "source": [
    "## 4. TOKENIZATION AND DATASET PREPARATION"
   ]
  },
  {
   "cell_type": "code",
   "execution_count": 5,
   "id": "db1a830d-7aae-447c-952b-7e13764048ac",
   "metadata": {},
   "outputs": [
    {
     "data": {
      "application/vnd.jupyter.widget-view+json": {
       "model_id": "d44e089fcb6f4f10adde6fa20dd4dfbb",
       "version_major": 2,
       "version_minor": 0
      },
      "text/plain": [
       "Map:   0%|          | 0/51 [00:00<?, ? examples/s]"
      ]
     },
     "metadata": {},
     "output_type": "display_data"
    },
    {
     "data": {
      "application/vnd.jupyter.widget-view+json": {
       "model_id": "41c77ef11aad45659543a9bb5681d860",
       "version_major": 2,
       "version_minor": 0
      },
      "text/plain": [
       "Map:   0%|          | 0/23 [00:00<?, ? examples/s]"
      ]
     },
     "metadata": {},
     "output_type": "display_data"
    },
    {
     "name": "stdout",
     "output_type": "stream",
     "text": [
      "Tokenized dataset sizes - Train: 166, Dev: 74\n"
     ]
    }
   ],
   "source": [
    "# Initialize tokenizer\n",
    "model_name = \"bert-base-uncased\"\n",
    "tokenizer = AutoTokenizer.from_pretrained(model_name, use_fast=True)\n",
    "\n",
    "# Tokenization parameters\n",
    "max_length = 512\n",
    "stride = 128\n",
    "\n",
    "def tokenize_and_align_labels(examples):\n",
    "    \"\"\"Tokenize text and align NER labels with subword tokens.\"\"\"\n",
    "    all_input_ids = []\n",
    "    all_attention_mask = []\n",
    "    all_labels = []\n",
    "    \n",
    "    for doc, entities in zip(examples[\"doc\"], examples[\"entities\"]):\n",
    "        # Tokenize with return_offsets_mapping for alignment\n",
    "        tokenized = tokenizer(\n",
    "            doc,\n",
    "            return_offsets_mapping=True,\n",
    "            truncation=True,\n",
    "            max_length=max_length,\n",
    "            stride=stride,\n",
    "            return_overflowing_tokens=True,\n",
    "        )\n",
    "        \n",
    "        # Process each chunk\n",
    "        for i in range(len(tokenized[\"input_ids\"])):\n",
    "            input_ids = tokenized[\"input_ids\"][i]\n",
    "            attention_mask = tokenized[\"attention_mask\"][i]\n",
    "            offsets = tokenized[\"offset_mapping\"][i]\n",
    "            \n",
    "            # Initialize labels as \"O\"\n",
    "            chunk_labels = [\"O\"] * len(input_ids)\n",
    "            \n",
    "            # Align entity labels\n",
    "            for entity in entities:\n",
    "                entity_type = entity[\"type\"]\n",
    "                for mention in entity.get(\"mentions\", []):\n",
    "                    start_char = doc.find(mention)\n",
    "                    if start_char == -1:\n",
    "                        continue\n",
    "                    end_char = start_char + len(mention)\n",
    "                    \n",
    "                    # Find tokens that overlap with entity\n",
    "                    for idx, (token_start, token_end) in enumerate(offsets):\n",
    "                        if token_start >= start_char and token_end <= end_char:\n",
    "                            if token_start == start_char:\n",
    "                                chunk_labels[idx] = f\"B-{entity_type}\"\n",
    "                            else:\n",
    "                                chunk_labels[idx] = f\"I-{entity_type}\"\n",
    "            \n",
    "            # Convert labels to IDs\n",
    "            label_ids = [label2id.get(label, label2id[\"O\"]) for label in chunk_labels]\n",
    "            \n",
    "            # Special tokens get -100 (ignored in loss)\n",
    "            label_ids = [\n",
    "                -100 if offsets[i] == (0, 0) else label_ids[i] \n",
    "                for i in range(len(label_ids))\n",
    "            ]\n",
    "            \n",
    "            all_input_ids.append(input_ids)\n",
    "            all_attention_mask.append(attention_mask)\n",
    "            all_labels.append(label_ids)\n",
    "    \n",
    "    return {\n",
    "        \"input_ids\": all_input_ids,\n",
    "        \"attention_mask\": all_attention_mask,\n",
    "        \"labels\": all_labels,\n",
    "    }\n",
    "\n",
    "# Create HuggingFace datasets\n",
    "hf_train = Dataset.from_list(train_docs)\n",
    "hf_dev = Dataset.from_list(dev_docs)\n",
    "hf_test = Dataset.from_list(test_docs)\n",
    "\n",
    "# Apply tokenization\n",
    "columns_to_remove = [\"domain\", \"title\", \"doc\", \"entities\", \"triples\", \n",
    "                     \"label_set\", \"entity_label_set\", \"document\", \n",
    "                     \"RE_label_set\", \"NER_label_set\", \"id\"]\n",
    "\n",
    "tokenized_train = hf_train.map(\n",
    "    tokenize_and_align_labels,\n",
    "    batched=True,\n",
    "    remove_columns=[col for col in columns_to_remove if col in hf_train.column_names]\n",
    ")\n",
    "\n",
    "tokenized_dev = hf_dev.map(\n",
    "    tokenize_and_align_labels,\n",
    "    batched=True,\n",
    "    remove_columns=[col for col in columns_to_remove if col in hf_dev.column_names]\n",
    ")\n",
    "\n",
    "print(f\"Tokenized dataset sizes - Train: {len(tokenized_train)}, Dev: {len(tokenized_dev)}\")"
   ]
  },
  {
   "cell_type": "markdown",
   "id": "7ad21fc8-a4a1-4566-9257-46ed82a1f0aa",
   "metadata": {},
   "source": [
    "## 5. METRICS AND DATA COLLATOR"
   ]
  },
  {
   "cell_type": "code",
   "execution_count": 6,
   "id": "9f4fe3bf-6a30-4a04-bfa2-6ac969369207",
   "metadata": {},
   "outputs": [],
   "source": [
    "# Data collator for padding\n",
    "data_collator = DataCollatorForTokenClassification(tokenizer)\n",
    "\n",
    "def compute_metrics(eval_pred):\n",
    "    \"\"\"Compute precision, recall, and F1 for NER.\"\"\"\n",
    "    predictions, labels = eval_pred\n",
    "    predictions = np.argmax(predictions, axis=-1)\n",
    "    \n",
    "    # Flatten and remove special tokens (-100)\n",
    "    predictions = predictions.flatten()\n",
    "    labels = labels.flatten()\n",
    "    mask = labels != -100\n",
    "    \n",
    "    predictions = predictions[mask]\n",
    "    labels = labels[mask]\n",
    "    \n",
    "    # Compute metrics\n",
    "    precision, recall, f1, _ = precision_recall_fscore_support(\n",
    "        labels, predictions, average='micro', zero_division=0\n",
    "    )\n",
    "    accuracy = accuracy_score(labels, predictions)\n",
    "    \n",
    "    return {\n",
    "        \"precision\": precision,\n",
    "        \"recall\": recall,\n",
    "        \"f1\": f1,\n",
    "        \"accuracy\": accuracy\n",
    "    }"
   ]
  },
  {
   "cell_type": "markdown",
   "id": "752ede33-d531-4515-b3ba-21aa11f1345c",
   "metadata": {},
   "source": [
    "## 6. BASELINE MODEL TRAINING"
   ]
  },
  {
   "cell_type": "code",
   "execution_count": 7,
   "id": "41fc40e6-23df-4872-ac9e-48386eab3048",
   "metadata": {},
   "outputs": [
    {
     "name": "stdout",
     "output_type": "stream",
     "text": [
      "\n",
      "==================================================\n",
      "TRAINING BASELINE MODEL\n",
      "==================================================\n"
     ]
    },
    {
     "name": "stderr",
     "output_type": "stream",
     "text": [
      "Some weights of BertForTokenClassification were not initialized from the model checkpoint at bert-base-uncased and are newly initialized: ['classifier.bias', 'classifier.weight']\n",
      "You should probably TRAIN this model on a down-stream task to be able to use it for predictions and inference.\n",
      "C:\\Users\\nmilo\\anaconda3\\Lib\\site-packages\\transformers\\training_args.py:1611: FutureWarning: `evaluation_strategy` is deprecated and will be removed in version 4.46 of 🤗 Transformers. Use `eval_strategy` instead\n",
      "  warnings.warn(\n",
      "C:\\Users\\nmilo\\AppData\\Local\\Temp\\ipykernel_34348\\1040768143.py:34: FutureWarning: `tokenizer` is deprecated and will be removed in version 5.0.0 for `Trainer.__init__`. Use `processing_class` instead.\n",
      "  baseline_trainer = Trainer(\n"
     ]
    },
    {
     "data": {
      "text/html": [
       "\n",
       "    <div>\n",
       "      \n",
       "      <progress value='33' max='33' style='width:300px; height:20px; vertical-align: middle;'></progress>\n",
       "      [33/33 07:10, Epoch 3/3]\n",
       "    </div>\n",
       "    <table border=\"1\" class=\"dataframe\">\n",
       "  <thead>\n",
       " <tr style=\"text-align: left;\">\n",
       "      <th>Epoch</th>\n",
       "      <th>Training Loss</th>\n",
       "      <th>Validation Loss</th>\n",
       "      <th>Precision</th>\n",
       "      <th>Recall</th>\n",
       "      <th>F1</th>\n",
       "      <th>Accuracy</th>\n",
       "    </tr>\n",
       "  </thead>\n",
       "  <tbody>\n",
       "    <tr>\n",
       "      <td>1</td>\n",
       "      <td>No log</td>\n",
       "      <td>0.649539</td>\n",
       "      <td>0.885307</td>\n",
       "      <td>0.885307</td>\n",
       "      <td>0.885307</td>\n",
       "      <td>0.885307</td>\n",
       "    </tr>\n",
       "    <tr>\n",
       "      <td>2</td>\n",
       "      <td>No log</td>\n",
       "      <td>0.612819</td>\n",
       "      <td>0.885307</td>\n",
       "      <td>0.885307</td>\n",
       "      <td>0.885307</td>\n",
       "      <td>0.885307</td>\n",
       "    </tr>\n",
       "    <tr>\n",
       "      <td>3</td>\n",
       "      <td>No log</td>\n",
       "      <td>0.583608</td>\n",
       "      <td>0.885307</td>\n",
       "      <td>0.885307</td>\n",
       "      <td>0.885307</td>\n",
       "      <td>0.885307</td>\n",
       "    </tr>\n",
       "  </tbody>\n",
       "</table><p>"
      ],
      "text/plain": [
       "<IPython.core.display.HTML object>"
      ]
     },
     "metadata": {},
     "output_type": "display_data"
    },
    {
     "data": {
      "text/html": [
       "\n",
       "    <div>\n",
       "      \n",
       "      <progress value='3' max='3' style='width:300px; height:20px; vertical-align: middle;'></progress>\n",
       "      [3/3 00:06]\n",
       "    </div>\n",
       "    "
      ],
      "text/plain": [
       "<IPython.core.display.HTML object>"
      ]
     },
     "metadata": {},
     "output_type": "display_data"
    },
    {
     "name": "stdout",
     "output_type": "stream",
     "text": [
      "\n",
      "Baseline Results:\n",
      "F1: 0.8853\n",
      "Precision: 0.8853\n",
      "Recall: 0.8853\n"
     ]
    }
   ],
   "source": [
    "print(\"\\n\" + \"=\"*50)\n",
    "print(\"TRAINING BASELINE MODEL\")\n",
    "print(\"=\"*50)\n",
    "\n",
    "# Initialize model\n",
    "baseline_model = AutoModelForTokenClassification.from_pretrained(\n",
    "    model_name,\n",
    "    num_labels=len(ner_labels),\n",
    "    id2label=id2label,\n",
    "    label2id=label2id,\n",
    ")\n",
    "\n",
    "# Training arguments\n",
    "baseline_args = TrainingArguments(\n",
    "    output_dir=\"outputs/bert-ner-baseline\",\n",
    "    num_train_epochs=3,\n",
    "    per_device_train_batch_size=16,\n",
    "    per_device_eval_batch_size=32,\n",
    "    learning_rate=5e-5,\n",
    "    weight_decay=0.01,\n",
    "    evaluation_strategy=\"epoch\",\n",
    "    save_strategy=\"epoch\",\n",
    "    logging_dir=\"logs\",\n",
    "    logging_steps=50,\n",
    "    save_total_limit=2,\n",
    "    load_best_model_at_end=True,\n",
    "    metric_for_best_model=\"f1\",\n",
    "    greater_is_better=True,\n",
    "    fp16=torch.cuda.is_available(),\n",
    "    report_to=\"none\",\n",
    ")\n",
    "\n",
    "# Create trainer\n",
    "baseline_trainer = Trainer(\n",
    "    model=baseline_model,\n",
    "    args=baseline_args,\n",
    "    train_dataset=tokenized_train,\n",
    "    eval_dataset=tokenized_dev,\n",
    "    data_collator=data_collator,\n",
    "    tokenizer=tokenizer,\n",
    "    compute_metrics=compute_metrics,\n",
    ")\n",
    "\n",
    "# Train\n",
    "baseline_trainer.train()\n",
    "\n",
    "# Evaluate\n",
    "baseline_results = baseline_trainer.evaluate()\n",
    "print(f\"\\nBaseline Results:\")\n",
    "print(f\"F1: {baseline_results['eval_f1']:.4f}\")\n",
    "print(f\"Precision: {baseline_results['eval_precision']:.4f}\")\n",
    "print(f\"Recall: {baseline_results['eval_recall']:.4f}\")\n"
   ]
  },
  {
   "cell_type": "markdown",
   "id": "e95daf6b-c17e-4674-8e91-d2fe16e3abd5",
   "metadata": {},
   "source": [
    "## 7. FINE-TUNING WITH BEST HYPERPARAMETERS"
   ]
  },
  {
   "cell_type": "code",
   "execution_count": 8,
   "id": "2046f559-c3f2-409b-bd96-93c12a734edb",
   "metadata": {},
   "outputs": [],
   "source": [
    "# Based on your hyperparameter tuning results:\n",
    "best_hyperparams = {\n",
    "    \"full_ft\": {\n",
    "        \"learning_rate\": 4.358610256985791e-05,\n",
    "        \"batch_size\": 16,\n",
    "        \"method_name\": \"Full Fine-Tuning\"\n",
    "    },\n",
    "    \"lora\": {\n",
    "        \"learning_rate\": 2.220149951658828e-05,\n",
    "        \"r\": 16,\n",
    "        \"alpha\": 16,\n",
    "        \"dropout\": 0.015844640852335577,\n",
    "        \"batch_size\": 8,\n",
    "        \"method_name\": \"LoRA\"\n",
    "    },\n",
    "    \"partial_freeze\": {\n",
    "        \"freeze_pct\": 0.5,\n",
    "        \"learning_rate\": 3.2302001133689886e-05,\n",
    "        \"batch_size\": 16,\n",
    "        \"method_name\": \"Partial Freeze\"\n",
    "    }\n",
    "}\n",
    "\n",
    "results_summary = {\n",
    "    \"baseline\": baseline_results\n",
    "}"
   ]
  },
  {
   "cell_type": "markdown",
   "id": "c4923174-fe12-4d94-9e3e-602ac0601dff",
   "metadata": {},
   "source": [
    "## 7.1 FULL FINE-TUNING\n"
   ]
  },
  {
   "cell_type": "code",
   "execution_count": 12,
   "id": "3f5ef2c0-334d-448a-b7e8-dda5f51f5fd4",
   "metadata": {},
   "outputs": [
    {
     "name": "stderr",
     "output_type": "stream",
     "text": [
      "Some weights of BertForTokenClassification were not initialized from the model checkpoint at bert-base-uncased and are newly initialized: ['classifier.bias', 'classifier.weight']\n",
      "You should probably TRAIN this model on a down-stream task to be able to use it for predictions and inference.\n"
     ]
    },
    {
     "name": "stdout",
     "output_type": "stream",
     "text": [
      "\n",
      "==================================================\n",
      "FULL FINE-TUNING WITH BEST PARAMETERS\n",
      "==================================================\n"
     ]
    },
    {
     "name": "stderr",
     "output_type": "stream",
     "text": [
      "C:\\Users\\nmilo\\AppData\\Local\\Temp\\ipykernel_34348\\42561499.py:29: FutureWarning: `tokenizer` is deprecated and will be removed in version 5.0.0 for `Trainer.__init__`. Use `processing_class` instead.\n",
      "  ft_trainer = Trainer(\n"
     ]
    },
    {
     "data": {
      "text/html": [
       "\n",
       "    <div>\n",
       "      \n",
       "      <progress value='100' max='100' style='width:300px; height:20px; vertical-align: middle;'></progress>\n",
       "      [100/100 18:42, Epoch 9/10]\n",
       "    </div>\n",
       "    <table border=\"1\" class=\"dataframe\">\n",
       "  <thead>\n",
       " <tr style=\"text-align: left;\">\n",
       "      <th>Step</th>\n",
       "      <th>Training Loss</th>\n",
       "      <th>Validation Loss</th>\n",
       "      <th>Precision</th>\n",
       "      <th>Recall</th>\n",
       "      <th>F1</th>\n",
       "      <th>Accuracy</th>\n",
       "    </tr>\n",
       "  </thead>\n",
       "  <tbody>\n",
       "    <tr>\n",
       "      <td>20</td>\n",
       "      <td>1.314200</td>\n",
       "      <td>0.582728</td>\n",
       "      <td>0.885307</td>\n",
       "      <td>0.885307</td>\n",
       "      <td>0.885307</td>\n",
       "      <td>0.885307</td>\n",
       "    </tr>\n",
       "    <tr>\n",
       "      <td>40</td>\n",
       "      <td>0.744800</td>\n",
       "      <td>0.489795</td>\n",
       "      <td>0.885277</td>\n",
       "      <td>0.885277</td>\n",
       "      <td>0.885277</td>\n",
       "      <td>0.885277</td>\n",
       "    </tr>\n",
       "    <tr>\n",
       "      <td>60</td>\n",
       "      <td>0.666400</td>\n",
       "      <td>0.459513</td>\n",
       "      <td>0.889698</td>\n",
       "      <td>0.889698</td>\n",
       "      <td>0.889698</td>\n",
       "      <td>0.889698</td>\n",
       "    </tr>\n",
       "    <tr>\n",
       "      <td>80</td>\n",
       "      <td>0.605900</td>\n",
       "      <td>0.437836</td>\n",
       "      <td>0.892026</td>\n",
       "      <td>0.892026</td>\n",
       "      <td>0.892026</td>\n",
       "      <td>0.892026</td>\n",
       "    </tr>\n",
       "    <tr>\n",
       "      <td>100</td>\n",
       "      <td>0.524900</td>\n",
       "      <td>0.432223</td>\n",
       "      <td>0.891554</td>\n",
       "      <td>0.891554</td>\n",
       "      <td>0.891554</td>\n",
       "      <td>0.891554</td>\n",
       "    </tr>\n",
       "  </tbody>\n",
       "</table><p>"
      ],
      "text/plain": [
       "<IPython.core.display.HTML object>"
      ]
     },
     "metadata": {},
     "output_type": "display_data"
    },
    {
     "data": {
      "text/html": [],
      "text/plain": [
       "<IPython.core.display.HTML object>"
      ]
     },
     "metadata": {},
     "output_type": "display_data"
    },
    {
     "name": "stdout",
     "output_type": "stream",
     "text": [
      "\n",
      "Full Fine-Tuning Results:\n",
      "F1: 0.8916\n"
     ]
    }
   ],
   "source": [
    "print(\"\\n\" + \"=\"*50)\n",
    "print(\"FULL FINE-TUNING WITH BEST PARAMETERS\")\n",
    "print(\"=\"*50)\n",
    "\n",
    "# Create fresh model\n",
    "ft_model = AutoModelForTokenClassification.from_pretrained(\n",
    "    model_name,\n",
    "    num_labels=len(ner_labels),\n",
    "    id2label=id2label,\n",
    "    label2id=label2id,\n",
    ")\n",
    "\n",
    "# Training arguments with best hyperparameters\n",
    "ft_args = TrainingArguments(\n",
    "    output_dir=\"outputs/bert-ner-full-ft-final\",\n",
    "    max_steps=100,  # Fixed budget for fair comparison\n",
    "    per_device_train_batch_size=best_hyperparams[\"full_ft\"][\"batch_size\"],\n",
    "    per_device_eval_batch_size=32,\n",
    "    learning_rate=best_hyperparams[\"full_ft\"][\"learning_rate\"],\n",
    "    evaluation_strategy=\"steps\",\n",
    "    eval_steps=20,\n",
    "    save_strategy=\"no\",\n",
    "    logging_steps=20,\n",
    "    fp16=torch.cuda.is_available(),\n",
    "    report_to=\"none\",\n",
    ")\n",
    "\n",
    "# Train\n",
    "ft_trainer = Trainer(\n",
    "    model=ft_model,\n",
    "    args=ft_args,\n",
    "    train_dataset=tokenized_train,\n",
    "    eval_dataset=tokenized_dev,\n",
    "    data_collator=data_collator,\n",
    "    tokenizer=tokenizer,\n",
    "    compute_metrics=compute_metrics,\n",
    ")\n",
    "\n",
    "ft_trainer.train()\n",
    "ft_results = ft_trainer.evaluate()\n",
    "results_summary[\"full_ft\"] = ft_results\n",
    "\n",
    "print(f\"\\nFull Fine-Tuning Results:\")\n",
    "print(f\"F1: {ft_results['eval_f1']:.4f}\")"
   ]
  },
  {
   "cell_type": "markdown",
   "id": "1af03c2c-992f-452c-b3c0-530de911c5a1",
   "metadata": {},
   "source": [
    "## 7.2 LoRA FINE-TUNING"
   ]
  },
  {
   "cell_type": "code",
   "execution_count": 13,
   "id": "d3b78fd6-dc6c-41ff-b2a4-64278bc19674",
   "metadata": {},
   "outputs": [
    {
     "name": "stdout",
     "output_type": "stream",
     "text": [
      "\n",
      "==================================================\n",
      "LoRA FINE-TUNING WITH BEST PARAMETERS\n",
      "==================================================\n"
     ]
    },
    {
     "name": "stderr",
     "output_type": "stream",
     "text": [
      "Some weights of BertForTokenClassification were not initialized from the model checkpoint at bert-base-uncased and are newly initialized: ['classifier.bias', 'classifier.weight']\n",
      "You should probably TRAIN this model on a down-stream task to be able to use it for predictions and inference.\n",
      "C:\\Users\\nmilo\\anaconda3\\Lib\\site-packages\\transformers\\training_args.py:1611: FutureWarning: `evaluation_strategy` is deprecated and will be removed in version 4.46 of 🤗 Transformers. Use `eval_strategy` instead\n",
      "  warnings.warn(\n",
      "C:\\Users\\nmilo\\AppData\\Local\\Temp\\ipykernel_34348\\2177920545.py:45: FutureWarning: `tokenizer` is deprecated and will be removed in version 5.0.0 for `Trainer.__init__`. Use `processing_class` instead.\n",
      "  lora_trainer = Trainer(\n",
      "No label_names provided for model class `PeftModelForTokenClassification`. Since `PeftModel` hides base models input arguments, if label_names is not given, label_names can't be set automatically within `Trainer`. Note that empty label_names list will be used instead.\n"
     ]
    },
    {
     "name": "stdout",
     "output_type": "stream",
     "text": [
      "trainable params: 619,815 || all params: 109,541,454 || trainable%: 0.5658\n"
     ]
    },
    {
     "data": {
      "text/html": [
       "\n",
       "    <div>\n",
       "      \n",
       "      <progress value='100' max='100' style='width:300px; height:20px; vertical-align: middle;'></progress>\n",
       "      [100/100 08:45, Epoch 4/5]\n",
       "    </div>\n",
       "    <table border=\"1\" class=\"dataframe\">\n",
       "  <thead>\n",
       " <tr style=\"text-align: left;\">\n",
       "      <th>Step</th>\n",
       "      <th>Training Loss</th>\n",
       "      <th>Validation Loss</th>\n",
       "      <th>Precision</th>\n",
       "      <th>Recall</th>\n",
       "      <th>F1</th>\n",
       "      <th>Accuracy</th>\n",
       "    </tr>\n",
       "  </thead>\n",
       "  <tbody>\n",
       "    <tr>\n",
       "      <td>20</td>\n",
       "      <td>3.837200</td>\n",
       "      <td>3.750606</td>\n",
       "      <td>0.006071</td>\n",
       "      <td>0.006071</td>\n",
       "      <td>0.006071</td>\n",
       "      <td>0.006071</td>\n",
       "    </tr>\n",
       "    <tr>\n",
       "      <td>40</td>\n",
       "      <td>3.729700</td>\n",
       "      <td>3.643124</td>\n",
       "      <td>0.014381</td>\n",
       "      <td>0.014381</td>\n",
       "      <td>0.014381</td>\n",
       "      <td>0.014381</td>\n",
       "    </tr>\n",
       "    <tr>\n",
       "      <td>60</td>\n",
       "      <td>3.642900</td>\n",
       "      <td>3.558876</td>\n",
       "      <td>0.031237</td>\n",
       "      <td>0.031237</td>\n",
       "      <td>0.031237</td>\n",
       "      <td>0.031237</td>\n",
       "    </tr>\n",
       "    <tr>\n",
       "      <td>80</td>\n",
       "      <td>3.574600</td>\n",
       "      <td>3.504576</td>\n",
       "      <td>0.048447</td>\n",
       "      <td>0.048447</td>\n",
       "      <td>0.048447</td>\n",
       "      <td>0.048447</td>\n",
       "    </tr>\n",
       "    <tr>\n",
       "      <td>100</td>\n",
       "      <td>3.544400</td>\n",
       "      <td>3.485232</td>\n",
       "      <td>0.056050</td>\n",
       "      <td>0.056050</td>\n",
       "      <td>0.056050</td>\n",
       "      <td>0.056050</td>\n",
       "    </tr>\n",
       "  </tbody>\n",
       "</table><p>"
      ],
      "text/plain": [
       "<IPython.core.display.HTML object>"
      ]
     },
     "metadata": {},
     "output_type": "display_data"
    },
    {
     "data": {
      "text/html": [
       "\n",
       "    <div>\n",
       "      \n",
       "      <progress value='5' max='5' style='width:300px; height:20px; vertical-align: middle;'></progress>\n",
       "      [5/5 00:09]\n",
       "    </div>\n",
       "    "
      ],
      "text/plain": [
       "<IPython.core.display.HTML object>"
      ]
     },
     "metadata": {},
     "output_type": "display_data"
    },
    {
     "name": "stdout",
     "output_type": "stream",
     "text": [
      "\n",
      "LoRA Results:\n",
      "F1: 0.0560\n"
     ]
    }
   ],
   "source": [
    "print(\"\\n\" + \"=\"*50)\n",
    "print(\"LoRA FINE-TUNING WITH BEST PARAMETERS\")\n",
    "print(\"=\"*50)\n",
    "\n",
    "from peft import LoraConfig, get_peft_model, TaskType\n",
    "\n",
    "# Create fresh model\n",
    "base_model = AutoModelForTokenClassification.from_pretrained(\n",
    "    model_name,\n",
    "    num_labels=len(ner_labels),\n",
    "    id2label=id2label,\n",
    "    label2id=label2id,\n",
    ")\n",
    "\n",
    "# LoRA configuration\n",
    "lora_config = LoraConfig(\n",
    "    task_type=TaskType.TOKEN_CLS,\n",
    "    inference_mode=False,\n",
    "    r=best_hyperparams[\"lora\"][\"r\"],\n",
    "    lora_alpha=best_hyperparams[\"lora\"][\"alpha\"],\n",
    "    lora_dropout=best_hyperparams[\"lora\"][\"dropout\"],\n",
    "    target_modules=[\"query\", \"value\"],  # BERT-specific\n",
    ")\n",
    "\n",
    "# Apply LoRA\n",
    "lora_model = get_peft_model(base_model, lora_config)\n",
    "lora_model.print_trainable_parameters()\n",
    "\n",
    "# Training arguments\n",
    "lora_args = TrainingArguments(\n",
    "    output_dir=\"outputs/bert-ner-lora-final\",\n",
    "    max_steps=100,\n",
    "    per_device_train_batch_size=best_hyperparams[\"lora\"][\"batch_size\"],\n",
    "    per_device_eval_batch_size=16,\n",
    "    learning_rate=best_hyperparams[\"lora\"][\"learning_rate\"],\n",
    "    evaluation_strategy=\"steps\",\n",
    "    eval_steps=20,\n",
    "    save_strategy=\"no\",\n",
    "    logging_steps=20,\n",
    "    fp16=torch.cuda.is_available(),\n",
    "    report_to=\"none\",\n",
    ")\n",
    "\n",
    "# Train\n",
    "lora_trainer = Trainer(\n",
    "    model=lora_model,\n",
    "    args=lora_args,\n",
    "    train_dataset=tokenized_train,\n",
    "    eval_dataset=tokenized_dev,\n",
    "    data_collator=data_collator,\n",
    "    tokenizer=tokenizer,\n",
    "    compute_metrics=compute_metrics,\n",
    ")\n",
    "\n",
    "lora_trainer.train()\n",
    "lora_results = lora_trainer.evaluate()\n",
    "results_summary[\"lora\"] = lora_results\n",
    "\n",
    "print(f\"\\nLoRA Results:\")\n",
    "print(f\"F1: {lora_results['eval_f1']:.4f}\")\n"
   ]
  },
  {
   "cell_type": "markdown",
   "id": "699308d0-094b-41a8-b33a-7a1f43129b2a",
   "metadata": {},
   "source": [
    "## 7.3 PARTIAL FREEZE FINE-TUNING"
   ]
  },
  {
   "cell_type": "code",
   "execution_count": 14,
   "id": "827e90ed-fcb3-469e-bcfb-916b10583c02",
   "metadata": {},
   "outputs": [
    {
     "name": "stdout",
     "output_type": "stream",
     "text": [
      "\n",
      "==================================================\n",
      "PARTIAL FREEZE FINE-TUNING WITH BEST PARAMETERS\n",
      "==================================================\n"
     ]
    },
    {
     "name": "stderr",
     "output_type": "stream",
     "text": [
      "Some weights of BertForTokenClassification were not initialized from the model checkpoint at bert-base-uncased and are newly initialized: ['classifier.bias', 'classifier.weight']\n",
      "You should probably TRAIN this model on a down-stream task to be able to use it for predictions and inference.\n",
      "C:\\Users\\nmilo\\anaconda3\\Lib\\site-packages\\transformers\\training_args.py:1611: FutureWarning: `evaluation_strategy` is deprecated and will be removed in version 4.46 of 🤗 Transformers. Use `eval_strategy` instead\n",
      "  warnings.warn(\n",
      "C:\\Users\\nmilo\\AppData\\Local\\Temp\\ipykernel_34348\\160557065.py:45: FutureWarning: `tokenizer` is deprecated and will be removed in version 5.0.0 for `Trainer.__init__`. Use `processing_class` instead.\n",
      "  freeze_trainer = Trainer(\n"
     ]
    },
    {
     "name": "stdout",
     "output_type": "stream",
     "text": [
      "Trainable parameters: 23,867,175 / 108,921,639 (21.91%)\n"
     ]
    },
    {
     "data": {
      "text/html": [
       "\n",
       "    <div>\n",
       "      \n",
       "      <progress value='100' max='100' style='width:300px; height:20px; vertical-align: middle;'></progress>\n",
       "      [100/100 15:09, Epoch 9/10]\n",
       "    </div>\n",
       "    <table border=\"1\" class=\"dataframe\">\n",
       "  <thead>\n",
       " <tr style=\"text-align: left;\">\n",
       "      <th>Step</th>\n",
       "      <th>Training Loss</th>\n",
       "      <th>Validation Loss</th>\n",
       "      <th>Precision</th>\n",
       "      <th>Recall</th>\n",
       "      <th>F1</th>\n",
       "      <th>Accuracy</th>\n",
       "    </tr>\n",
       "  </thead>\n",
       "  <tbody>\n",
       "    <tr>\n",
       "      <td>20</td>\n",
       "      <td>3.651700</td>\n",
       "      <td>3.545870</td>\n",
       "      <td>0.057612</td>\n",
       "      <td>0.057612</td>\n",
       "      <td>0.057612</td>\n",
       "      <td>0.057612</td>\n",
       "    </tr>\n",
       "    <tr>\n",
       "      <td>40</td>\n",
       "      <td>3.487800</td>\n",
       "      <td>3.393096</td>\n",
       "      <td>0.159840</td>\n",
       "      <td>0.159840</td>\n",
       "      <td>0.159840</td>\n",
       "      <td>0.159840</td>\n",
       "    </tr>\n",
       "    <tr>\n",
       "      <td>60</td>\n",
       "      <td>3.365600</td>\n",
       "      <td>3.281527</td>\n",
       "      <td>0.281340</td>\n",
       "      <td>0.281340</td>\n",
       "      <td>0.281340</td>\n",
       "      <td>0.281340</td>\n",
       "    </tr>\n",
       "    <tr>\n",
       "      <td>80</td>\n",
       "      <td>3.284500</td>\n",
       "      <td>3.212695</td>\n",
       "      <td>0.364148</td>\n",
       "      <td>0.364148</td>\n",
       "      <td>0.364148</td>\n",
       "      <td>0.364148</td>\n",
       "    </tr>\n",
       "    <tr>\n",
       "      <td>100</td>\n",
       "      <td>3.230400</td>\n",
       "      <td>3.188612</td>\n",
       "      <td>0.394206</td>\n",
       "      <td>0.394206</td>\n",
       "      <td>0.394206</td>\n",
       "      <td>0.394206</td>\n",
       "    </tr>\n",
       "  </tbody>\n",
       "</table><p>"
      ],
      "text/plain": [
       "<IPython.core.display.HTML object>"
      ]
     },
     "metadata": {},
     "output_type": "display_data"
    },
    {
     "data": {
      "text/html": [
       "\n",
       "    <div>\n",
       "      \n",
       "      <progress value='3' max='3' style='width:300px; height:20px; vertical-align: middle;'></progress>\n",
       "      [3/3 00:06]\n",
       "    </div>\n",
       "    "
      ],
      "text/plain": [
       "<IPython.core.display.HTML object>"
      ]
     },
     "metadata": {},
     "output_type": "display_data"
    },
    {
     "name": "stdout",
     "output_type": "stream",
     "text": [
      "\n",
      "Partial Freeze Results:\n",
      "F1: 0.3942\n"
     ]
    }
   ],
   "source": [
    "print(\"\\n\" + \"=\"*50)\n",
    "print(\"PARTIAL FREEZE FINE-TUNING WITH BEST PARAMETERS\")\n",
    "print(\"=\"*50)\n",
    "\n",
    "# Create fresh model\n",
    "freeze_model = AutoModelForTokenClassification.from_pretrained(\n",
    "    model_name,\n",
    "    num_labels=len(ner_labels),\n",
    "    id2label=id2label,\n",
    "    label2id=label2id,\n",
    ")\n",
    "\n",
    "# Freeze bottom 50% of layers\n",
    "freeze_pct = best_hyperparams[\"partial_freeze\"][\"freeze_pct\"]\n",
    "num_layers = len([n for n, _ in freeze_model.named_parameters() if \"encoder.layer\" in n]) // 2\n",
    "freeze_until = int(num_layers * freeze_pct)\n",
    "\n",
    "for name, param in freeze_model.named_parameters():\n",
    "    if \"encoder.layer\" in name:\n",
    "        layer_num = int(name.split(\".\")[3])\n",
    "        if layer_num < freeze_until:\n",
    "            param.requires_grad = False\n",
    "\n",
    "# Count trainable parameters\n",
    "trainable_params = sum(p.numel() for p in freeze_model.parameters() if p.requires_grad)\n",
    "total_params = sum(p.numel() for p in freeze_model.parameters())\n",
    "print(f\"Trainable parameters: {trainable_params:,} / {total_params:,} ({trainable_params/total_params*100:.2f}%)\")\n",
    "\n",
    "# Training arguments\n",
    "freeze_args = TrainingArguments(\n",
    "    output_dir=\"outputs/bert-ner-freeze-final\",\n",
    "    max_steps=100,\n",
    "    per_device_train_batch_size=best_hyperparams[\"partial_freeze\"][\"batch_size\"],\n",
    "    per_device_eval_batch_size=32,\n",
    "    learning_rate=best_hyperparams[\"partial_freeze\"][\"learning_rate\"],\n",
    "    evaluation_strategy=\"steps\",\n",
    "    eval_steps=20,\n",
    "    save_strategy=\"no\",\n",
    "    logging_steps=20,\n",
    "    fp16=torch.cuda.is_available(),\n",
    "    report_to=\"none\",\n",
    ")\n",
    "\n",
    "# Train\n",
    "freeze_trainer = Trainer(\n",
    "    model=freeze_model,\n",
    "    args=freeze_args,\n",
    "    train_dataset=tokenized_train,\n",
    "    eval_dataset=tokenized_dev,\n",
    "    data_collator=data_collator,\n",
    "    tokenizer=tokenizer,\n",
    "    compute_metrics=compute_metrics,\n",
    ")\n",
    "\n",
    "freeze_trainer.train()\n",
    "freeze_results = freeze_trainer.evaluate()\n",
    "results_summary[\"partial_freeze\"] = freeze_results\n",
    "\n",
    "print(f\"\\nPartial Freeze Results:\")\n",
    "print(f\"F1: {freeze_results['eval_f1']:.4f}\")\n"
   ]
  },
  {
   "cell_type": "markdown",
   "id": "926a17fd-16f9-404e-8ccf-e07a414d7be0",
   "metadata": {},
   "source": [
    "## 8. RESULTS COMPARISON"
   ]
  },
  {
   "cell_type": "code",
   "execution_count": 15,
   "id": "3f39c796-5fc8-4355-980a-604e60841ae9",
   "metadata": {},
   "outputs": [
    {
     "name": "stdout",
     "output_type": "stream",
     "text": [
      "\n",
      "==================================================\n",
      "RESULTS COMPARISON\n",
      "==================================================\n",
      "        Method    F1  Precision  Recall  Accuracy\n",
      "      Baseline 88.53      88.53   88.53     88.53\n",
      "       Full Ft 89.16      89.16   89.16     89.16\n",
      "          Lora  5.60       5.60    5.60      5.60\n",
      "Partial Freeze 39.42      39.42   39.42     39.42\n"
     ]
    }
   ],
   "source": [
    "\n",
    "print(\"\\n\" + \"=\"*50)\n",
    "print(\"RESULTS COMPARISON\")\n",
    "print(\"=\"*50)\n",
    "\n",
    "# Create comparison table\n",
    "import pandas as pd\n",
    "\n",
    "comparison_data = []\n",
    "for method, results in results_summary.items():\n",
    "    comparison_data.append({\n",
    "        \"Method\": method.replace(\"_\", \" \").title(),\n",
    "        \"F1\": results.get(\"eval_f1\", 0) * 100,\n",
    "        \"Precision\": results.get(\"eval_precision\", 0) * 100,\n",
    "        \"Recall\": results.get(\"eval_recall\", 0) * 100,\n",
    "        \"Accuracy\": results.get(\"eval_accuracy\", 0) * 100,\n",
    "    })\n",
    "\n",
    "comparison_df = pd.DataFrame(comparison_data)\n",
    "comparison_df = comparison_df.round(2)\n",
    "print(comparison_df.to_string(index=False))"
   ]
  },
  {
   "cell_type": "markdown",
   "id": "b36460f2-1d1c-4ad3-9cd0-430eb62f6a3c",
   "metadata": {},
   "source": [
    "## 9. VISUALIZATION"
   ]
  },
  {
   "cell_type": "code",
   "execution_count": 16,
   "id": "bfa9117c-5417-439d-b59c-5e63802f6411",
   "metadata": {},
   "outputs": [
    {
     "data": {
      "image/png": "[encoded data removed]",
      "text/plain": [
       "<Figure size 1000x600 with 1 Axes>"
      ]
     },
     "metadata": {},
     "output_type": "display_data"
    }
   ],
   "source": [
    "# Bar plot for F1 scores\n",
    "plt.figure(figsize=(10, 6))\n",
    "methods = comparison_df[\"Method\"].tolist()\n",
    "f1_scores = comparison_df[\"F1\"].tolist()\n",
    "\n",
    "bars = plt.bar(methods, f1_scores, color=['#1f77b4', '#ff7f0e', '#2ca02c', '#d62728'])\n",
    "plt.ylabel('F1 Score (%)', fontsize=12)\n",
    "plt.title('BERT NER Performance Comparison', fontsize=14)\n",
    "plt.ylim(0, 100)\n",
    "\n",
    "# Add value labels on bars\n",
    "for bar, score in zip(bars, f1_scores):\n",
    "    plt.text(bar.get_x() + bar.get_width()/2, bar.get_height() + 1, \n",
    "             f'{score:.1f}%', ha='center', va='bottom')\n",
    "\n",
    "plt.tight_layout()\n",
    "plt.savefig('outputs/bert_ner_comparison.png', dpi=300, bbox_inches='tight')\n",
    "plt.show()"
   ]
  },
  {
   "cell_type": "markdown",
   "id": "c527174d-89e7-463c-b972-a506bcb37aa3",
   "metadata": {},
   "source": [
    "## 10. TEST SET EVALUATION (FINAL MODEL)"
   ]
  },
  {
   "cell_type": "code",
   "execution_count": 17,
   "id": "539a8921-be3a-471e-b61f-5cd6f170e03e",
   "metadata": {},
   "outputs": [
    {
     "name": "stdout",
     "output_type": "stream",
     "text": [
      "\n",
      "==================================================\n",
      "FINAL TEST SET EVALUATION\n",
      "==================================================\n"
     ]
    },
    {
     "data": {
      "application/vnd.jupyter.widget-view+json": {
       "model_id": "b51bb1dda64249ee8b2326a5a0a81eac",
       "version_major": 2,
       "version_minor": 0
      },
      "text/plain": [
       "Map:   0%|          | 0/248 [00:00<?, ? examples/s]"
      ]
     },
     "metadata": {},
     "output_type": "display_data"
    },
    {
     "name": "stdout",
     "output_type": "stream",
     "text": [
      "Generated predictions for 731 test examples\n"
     ]
    }
   ],
   "source": [
    "print(\"\\n\" + \"=\"*50)\n",
    "print(\"FINAL TEST SET EVALUATION\")\n",
    "print(\"=\"*50)\n",
    "\n",
    "# Use the best performing model (full fine-tuning based on your results)\n",
    "# Note: For test set, we need to handle the different structure\n",
    "test_examples = []\n",
    "for doc in test_docs:\n",
    "    # Test docs have different structure\n",
    "    text = doc.get(\"document\", doc.get(\"doc\", \"\"))\n",
    "    if text:\n",
    "        test_examples.append({\n",
    "            \"doc\": text,\n",
    "            \"entities\": [],  # No labels in test set\n",
    "            \"id\": doc.get(\"id\", \"\")\n",
    "        })\n",
    "\n",
    "hf_test_for_inference = Dataset.from_list(test_examples)\n",
    "\n",
    "# Tokenize test set\n",
    "tokenized_test = hf_test_for_inference.map(\n",
    "    tokenize_and_align_labels,\n",
    "    batched=True,\n",
    "    remove_columns=hf_test_for_inference.column_names\n",
    ")\n",
    "\n",
    "# Get predictions from best model\n",
    "test_predictions = ft_trainer.predict(tokenized_test)\n",
    "predictions = np.argmax(test_predictions.predictions, axis=-1)\n",
    "\n",
    "# Convert predictions back to labels\n",
    "predicted_labels = []\n",
    "for pred_seq in predictions:\n",
    "    labels = [id2label[p] for p in pred_seq if p != -100]\n",
    "    predicted_labels.append(labels)\n",
    "\n",
    "print(f\"Generated predictions for {len(predicted_labels)} test examples\")"
   ]
  },
  {
   "cell_type": "markdown",
   "id": "61dc1ef4-c26f-4de8-bf54-a38bdc3879ea",
   "metadata": {},
   "source": [
    "## 11. SAVE RESULTS"
   ]
  },
  {
   "cell_type": "code",
   "execution_count": 18,
   "id": "e9a3bb3e-23fe-487f-9b48-b4e4f700bd9d",
   "metadata": {},
   "outputs": [
    {
     "name": "stdout",
     "output_type": "stream",
     "text": [
      "\n",
      "✅ All results saved to outputs/\n",
      "📊 Visualization saved as bert_ner_comparison.png\n",
      "💾 Best model saved to outputs/bert-ner-best-model/\n"
     ]
    }
   ],
   "source": [
    "# Save comparison table\n",
    "comparison_df.to_csv(\"outputs/bert_ner_results.csv\", index=False)\n",
    "\n",
    "# Save best model\n",
    "ft_trainer.save_model(\"outputs/bert-ner-best-model\")\n",
    "tokenizer.save_pretrained(\"outputs/bert-ner-best-model\")\n",
    "\n",
    "# Save predictions\n",
    "import json\n",
    "with open(\"outputs/bert_ner_test_predictions.json\", \"w\") as f:\n",
    "    json.dump({\n",
    "        \"predictions\": predicted_labels[:10],  # Sample\n",
    "        \"model\": \"bert-base-uncased\",\n",
    "        \"task\": \"NER\",\n",
    "        \"best_f1\": float(ft_results['eval_f1'])\n",
    "    }, f, indent=2)\n",
    "\n",
    "print(\"\\n✅ All results saved to outputs/\")\n",
    "print(\"📊 Visualization saved as bert_ner_comparison.png\")\n",
    "print(\"💾 Best model saved to outputs/bert-ner-best-model/\")"
   ]
  },
  {
   "cell_type": "code",
   "execution_count": null,
   "id": "bd851544-22a3-48e2-be25-90abcac0daec",
   "metadata": {},
   "outputs": [],
   "source": []
  }
 ],
 "metadata": {
  "kernelspec": {
   "display_name": "Python 3 (ipykernel)",
   "language": "python",
   "name": "python3"
  },
  "language_info": {
   "codemirror_mode": {
    "name": "ipython",
    "version": 3
   },
   "file_extension": ".py",
   "mimetype": "text/x-python",
   "name": "python",
   "nbconvert_exporter": "python",
   "pygments_lexer": "ipython3",
   "version": "3.11.7"
  }
 },
 "nbformat": 4,
 "nbformat_minor": 5
}
