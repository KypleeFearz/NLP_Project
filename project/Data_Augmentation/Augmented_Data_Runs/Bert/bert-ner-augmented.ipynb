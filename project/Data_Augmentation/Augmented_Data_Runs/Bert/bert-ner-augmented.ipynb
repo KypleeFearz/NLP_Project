{
 "cells": [
  {
   "cell_type": "markdown",
   "id": "1b3b2c0b-a612-4843-9938-d6257d1551e4",
   "metadata": {},
   "source": [
    "## 1. Imports"
   ]
  },
  {
   "cell_type": "code",
   "execution_count": 3,
   "id": "97e862ba-0f63-4b9b-864e-7a59dbdf7dbf",
   "metadata": {
    "execution": {
     "iopub.execute_input": "2025-05-29T08:55:11.357060Z",
     "iopub.status.busy": "2025-05-29T08:55:11.356799Z",
     "iopub.status.idle": "2025-05-29T08:55:11.361242Z",
     "shell.execute_reply": "2025-05-29T08:55:11.360638Z",
     "shell.execute_reply.started": "2025-05-29T08:55:11.357041Z"
    },
    "trusted": true
   },
   "outputs": [],
   "source": [
    "import os\n",
    "import json\n",
    "import torch\n",
    "import numpy as np\n",
    "from pathlib import Path\n",
    "from datasets import Dataset, DatasetDict\n",
    "from sklearn.metrics import precision_recall_fscore_support, accuracy_score\n",
    "import matplotlib.pyplot as plt\n",
    "import seaborn as sns\n",
    "\n",
    "from transformers import (\n",
    "    AutoTokenizer,\n",
    "    AutoModelForTokenClassification,\n",
    "    Trainer,\n",
    "    TrainingArguments,\n",
    "    DataCollatorForTokenClassification,\n",
    ")"
   ]
  },
  {
   "cell_type": "markdown",
   "id": "ca55bab6-edcf-4182-9175-0b60f6c8cfd3",
   "metadata": {},
   "source": [
    "## 2. DATA LOADING"
   ]
  },
  {
   "cell_type": "code",
   "execution_count": 5,
   "id": "81bdc49b-5d25-4ca9-a49e-80aae9b6e89a",
   "metadata": {
    "execution": {
     "iopub.execute_input": "2025-05-29T08:55:50.363828Z",
     "iopub.status.busy": "2025-05-29T08:55:50.363543Z",
     "iopub.status.idle": "2025-05-29T08:55:51.253945Z",
     "shell.execute_reply": "2025-05-29T08:55:51.253235Z",
     "shell.execute_reply.started": "2025-05-29T08:55:50.363799Z"
    },
    "trusted": true
   },
   "outputs": [
    {
     "name": "stdout",
     "output_type": "stream",
     "text": [
      "Dataset sizes - Train: 204, Dev: 88, Test: 248\n"
     ]
    }
   ],
   "source": [
    "# Deine lokalen Windows-Pfade\n",
    "TRAIN_DIR = Path(r\"/kaggle/input/nlp-augmentedset/aug_train\")\n",
    "DEV_DIR   = Path(r\"/kaggle/input/nlp-augmentedset/aug_dev\")\n",
    "TEST_DIR  = Path(r\"/kaggle/input/nlp-augmentedset/test\")\n",
    "\n",
    "assert TRAIN_DIR.exists(), f\"Train-Ordner nicht gefunden: {TRAIN_DIR}\"\n",
    "assert DEV_DIR.exists(),   f\"Dev-Ordner nicht gefunden:   {DEV_DIR}\"\n",
    "assert TEST_DIR.exists(),  f\"Test-Ordner nicht gefunden:  {TEST_DIR}\"\n",
    "def load_docie_docs(folder: Path, recursive: bool = False):\n",
    "    \"\"\"Load DocIE documents from JSON files.\"\"\"\n",
    "    docs = []\n",
    "    pattern = \"**/*.json\" if recursive else \"*.json\"\n",
    "    for file in folder.glob(pattern):\n",
    "        data = json.loads(file.read_text(encoding=\"utf-8\"))\n",
    "        if isinstance(data, list):\n",
    "            docs.extend(data)\n",
    "        else:\n",
    "            docs.append(data)\n",
    "    return docs\n",
    "\n",
    "# Load data\n",
    "train_docs = load_docie_docs(TRAIN_DIR)\n",
    "dev_docs = load_docie_docs(DEV_DIR)\n",
    "test_docs = load_docie_docs(TEST_DIR, recursive=True)\n",
    "\n",
    "print(f\"Dataset sizes - Train: {len(train_docs)}, Dev: {len(dev_docs)}, Test: {len(test_docs)}\")"
   ]
  },
  {
   "cell_type": "markdown",
   "id": "0fb7ba20-3745-4c32-931d-5ae68654edfd",
   "metadata": {},
   "source": [
    "## 3. LABEL MAPPING SETUP"
   ]
  },
  {
   "cell_type": "code",
   "execution_count": 6,
   "id": "96443f17-e814-4ad1-8a2d-6127988ce06d",
   "metadata": {
    "execution": {
     "iopub.execute_input": "2025-05-29T08:55:56.609763Z",
     "iopub.status.busy": "2025-05-29T08:55:56.609067Z",
     "iopub.status.idle": "2025-05-29T08:55:56.615523Z",
     "shell.execute_reply": "2025-05-29T08:55:56.614858Z",
     "shell.execute_reply.started": "2025-05-29T08:55:56.609738Z"
    },
    "trusted": true
   },
   "outputs": [
    {
     "name": "stdout",
     "output_type": "stream",
     "text": [
      "Number of NER labels: 39\n",
      "Entity types: ['CARDINAL', 'DATE', 'EVENT', 'FAC', 'GPE', 'LANGUAGE', 'LAW', 'LOC', 'MISC', 'MONEY', 'NORP', 'ORDINAL', 'ORG', 'PERCENT', 'PERSON', 'PRODUCT', 'QUANTITY', 'TIME', 'WORK_OF_ART']\n"
     ]
    }
   ],
   "source": [
    "# Extract entity types from training data\n",
    "entity_types = set()\n",
    "for doc in train_docs:\n",
    "    if \"entity_label_set\" in doc:\n",
    "        entity_types.update(doc[\"entity_label_set\"])\n",
    "    elif \"NER_label_set\" in doc:\n",
    "        entity_types.update(doc[\"NER_label_set\"])\n",
    "\n",
    "entity_types = sorted(list(entity_types))\n",
    "\n",
    "# Create BIO labels\n",
    "ner_labels = [\"O\"]\n",
    "for entity_type in entity_types:\n",
    "    ner_labels.extend([f\"B-{entity_type}\", f\"I-{entity_type}\"])\n",
    "\n",
    "# Create label mappings\n",
    "label2id = {label: idx for idx, label in enumerate(ner_labels)}\n",
    "id2label = {idx: label for label, idx in label2id.items()}\n",
    "\n",
    "print(f\"Number of NER labels: {len(ner_labels)}\")\n",
    "print(f\"Entity types: {entity_types}\")"
   ]
  },
  {
   "cell_type": "markdown",
   "id": "d83eb915-fccb-4d89-abe6-4df65db5927e",
   "metadata": {},
   "source": [
    "## 4. TOKENIZATION AND DATASET PREPARATION"
   ]
  },
  {
   "cell_type": "markdown",
   "id": "e5396329",
   "metadata": {},
   "source": [
    "## Summary of Updates to Tokenization Cell over the original pipeline \n",
    "\n",
    "\n",
    "\n",
    "**Key Changes and Why They Were Made:**\n",
    "\n",
    "1.  **Metadata Preservation (e.g., `aug_type`)**:\n",
    "    * **Change**: Added `DESIRED_PASSTHROUGH_COLUMNS` to specify metadata (like `aug_type`) to carry over. The `tokenize_and_align_labels` function now tiles these values for each tokenized chunk.\n",
    "\n",
    "2.  **Explicit Output Schema (`features`)**:\n",
    "    * **Change**: The `.map()` function now uses an explicitly defined `output_features` schema (using `datasets.Features`). This schema details all columns in the output, including passthrough metadata.\n",
    "\n",
    "3.  **Dynamic Column Removal**:\n",
    "    * **Change**: Columns to be removed from the original dataset are now determined dynamically based on what's *not* in the `output_features`, with `doc` and `entities` always being removed post-processing.\n",
    "\n",
    "4.  **Improved Special Token Labeling**:\n",
    "    * **Change**: A more explicit loop in `tokenize_and_align_labels` assigns the `-100` label to special tokens (like `[CLS]`, `[SEP]`) based on their `offset_mapping == (0,0)`.\n",
    "\n",
    "5.  **Controlled `.map()` Execution**:\n",
    "    * **Change**: `batch_size=100` and `load_from_cache_file=False` are now explicitly set in `.map()` calls.\n",
    "\n",
    "These updates lead to a more reliable and flexible tokenization pipeline, critical for complex NER tasks involving augmented data or detailed metadata tracking."
   ]
  },
  {
   "cell_type": "code",
   "execution_count": null,
   "id": "db1a830d-7aae-447c-952b-7e13764048ac",
   "metadata": {
    "execution": {
     "iopub.execute_input": "2025-05-29T08:56:00.025998Z",
     "iopub.status.busy": "2025-05-29T08:56:00.025301Z",
     "iopub.status.idle": "2025-05-29T08:56:06.247271Z",
     "shell.execute_reply": "2025-05-29T08:56:06.246371Z",
     "shell.execute_reply.started": "2025-05-29T08:56:00.025973Z"
    },
    "trusted": true
   },
   "outputs": [
    {
     "data": {
      "application/vnd.jupyter.widget-view+json": {
       "model_id": "db288fba57a341699064e9ca975e7604",
       "version_major": 2,
       "version_minor": 0
      },
      "text/plain": [
       "tokenizer_config.json:   0%|          | 0.00/48.0 [00:00<?, ?B/s]"
      ]
     },
     "metadata": {},
     "output_type": "display_data"
    },
    {
     "data": {
      "application/vnd.jupyter.widget-view+json": {
       "model_id": "c98133128aed4af08cfac4585ac64208",
       "version_major": 2,
       "version_minor": 0
      },
      "text/plain": [
       "config.json:   0%|          | 0.00/570 [00:00<?, ?B/s]"
      ]
     },
     "metadata": {},
     "output_type": "display_data"
    },
    {
     "data": {
      "application/vnd.jupyter.widget-view+json": {
       "model_id": "92d5107d0c844ab0ab2bf12628058086",
       "version_major": 2,
       "version_minor": 0
      },
      "text/plain": [
       "vocab.txt:   0%|          | 0.00/232k [00:00<?, ?B/s]"
      ]
     },
     "metadata": {},
     "output_type": "display_data"
    },
    {
     "data": {
      "application/vnd.jupyter.widget-view+json": {
       "model_id": "63fcf6f0e5ba44fdb186c1956766234f",
       "version_major": 2,
       "version_minor": 0
      },
      "text/plain": [
       "tokenizer.json:   0%|          | 0.00/466k [00:00<?, ?B/s]"
      ]
     },
     "metadata": {},
     "output_type": "display_data"
    },
    {
     "name": "stdout",
     "output_type": "stream",
     "text": [
      "Defined output features for .map(): {'input_ids': Sequence(feature=Value(dtype='int32', id=None), length=-1, id=None), 'attention_mask': Sequence(feature=Value(dtype='int8', id=None), length=-1, id=None), 'labels': Sequence(feature=Value(dtype='int64', id=None), length=-1, id=None), 'aug_type': Value(dtype='string', id=None)}\n",
      "Columns to be removed from hf_train after mapping: ['doc', 'domain', 'entities', 'entity_label_set', 'label_set', 'title', 'triples']\n"
     ]
    },
    {
     "data": {
      "application/vnd.jupyter.widget-view+json": {
       "model_id": "cc2d40570cd742559055db228c318862",
       "version_major": 2,
       "version_minor": 0
      },
      "text/plain": [
       "Map:   0%|          | 0/204 [00:00<?, ? examples/s]"
      ]
     },
     "metadata": {},
     "output_type": "display_data"
    },
    {
     "data": {
      "application/vnd.jupyter.widget-view+json": {
       "model_id": "9f1a4b182db24f43823fdc2c69339769",
       "version_major": 2,
       "version_minor": 0
      },
      "text/plain": [
       "Map:   0%|          | 0/88 [00:00<?, ? examples/s]"
      ]
     },
     "metadata": {},
     "output_type": "display_data"
    },
    {
     "name": "stdout",
     "output_type": "stream",
     "text": [
      "Tokenized dataset sizes - Train: 630, Dev: 272\n"
     ]
    }
   ],
   "source": [
    "# Initialize tokenizer\n",
    "model_name = \"bert-base-uncased\"\n",
    "tokenizer = AutoTokenizer.from_pretrained(model_name, use_fast=True)\n",
    "\n",
    "# Tokenization parameters\n",
    "max_length = 512\n",
    "stride = 128\n",
    "\n",
    "# --- Define which original columns to keep and explicitly tile ---\n",
    "\n",
    "DESIRED_PASSTHROUGH_COLUMNS = [\"aug_type\"]\n",
    "\n",
    "# --- Define output_features for the .map() function ---\n",
    "# Start with features for generated columns\n",
    "feature_definitions_for_map_output = {\n",
    "    \"input_ids\": Sequence(Value(\"int32\")),\n",
    "    \"attention_mask\": Sequence(Value(\"int8\")),\n",
    "    \"labels\": Sequence(Value(\"int64\")),\n",
    "}\n",
    "# Add features for the desired passthrough columns\n",
    "def tokenize_and_align_labels(examples):\n",
    "    \"\"\"Tokenize text, align NER labels, and explicitly tile DESIRED passthrough columns.\"\"\"\n",
    "    all_input_ids = []\n",
    "    all_attention_mask = []\n",
    "    all_labels = []\n",
    "    \n",
    "    # Initialize lists for the desired passthrough columns\n",
    "    tiled_desired_passthrough_data = {\n",
    "        col_name: [] for col_name in DESIRED_PASSTHROUGH_COLUMNS if col_name in examples\n",
    "    }\n",
    "\n",
    "    num_input_docs_in_batch = len(examples[\"doc\"])\n",
    "\n",
    "    for doc_idx_in_batch in range(num_input_docs_in_batch):\n",
    "        doc_text = examples[\"doc\"][doc_idx_in_batch]\n",
    "        entities_for_doc = examples[\"entities\"][doc_idx_in_batch]\n",
    "\n",
    "        # Get the values of desired passthrough columns for the current document\n",
    "        current_doc_passthrough_values = {}\n",
    "        for col_name in DESIRED_PASSTHROUGH_COLUMNS:\n",
    "            if col_name in examples:\n",
    "                current_doc_passthrough_values[col_name] = examples[col_name][doc_idx_in_batch]\n",
    "        \n",
    "        if not isinstance(doc_text, str):\n",
    "            # If a doc is invalid, skip it\n",
    "            continue\n",
    "\n",
    "        tokenized = tokenizer(\n",
    "            doc_text, # Use doc_text\n",
    "            return_offsets_mapping=True,\n",
    "            truncation=True,\n",
    "            max_length=max_length,\n",
    "            stride=stride,\n",
    "            return_overflowing_tokens=True,\n",
    "        )\n",
    "        \n",
    "        num_chunks_for_this_doc = len(tokenized[\"input_ids\"])\n",
    "\n",
    "        for i in range(num_chunks_for_this_doc):\n",
    "            input_ids = tokenized[\"input_ids\"][i]\n",
    "            attention_mask = tokenized[\"attention_mask\"][i]\n",
    "            offsets = tokenized[\"offset_mapping\"][i]\n",
    "            \n",
    "            chunk_labels = [\"O\"] * len(input_ids)\n",
    "            \n",
    "            for entity in entities_for_doc:\n",
    "                entity_type = entity[\"type\"]\n",
    "                for mention in entity.get(\"mentions\", []):\n",
    "                    start_char = doc_text.find(mention) # Use doc_text\n",
    "                    if start_char == -1:\n",
    "                        continue\n",
    "                    end_char = start_char + len(mention)\n",
    "                    \n",
    "                    for token_idx, (token_start, token_end) in enumerate(offsets):\n",
    "                        if token_idx < len(chunk_labels):\n",
    "                            if token_start >= start_char and token_end <= end_char:\n",
    "                                if token_start == start_char:\n",
    "                                    chunk_labels[token_idx] = f\"B-{entity_type}\"\n",
    "                                else:\n",
    "                                    chunk_labels[token_idx] = f\"I-{entity_type}\"\n",
    "            \n",
    "            label_ids = [label2id.get(label, label2id[\"O\"]) for label in chunk_labels]\n",
    "            \n",
    "            final_label_ids = []\n",
    "            for k_idx in range(len(input_ids)):\n",
    "                if k_idx < len(offsets) and offsets[k_idx] == (0, 0):\n",
    "                     final_label_ids.append(-100)\n",
    "                elif k_idx < len(label_ids):\n",
    "                     final_label_ids.append(label_ids[k_idx])\n",
    "                else:\n",
    "                     final_label_ids.append(label2id[\"O\"]) \n",
    "\n",
    "            all_input_ids.append(input_ids)\n",
    "            all_attention_mask.append(attention_mask)\n",
    "            all_labels.append(final_label_ids)\n",
    "\n",
    "            # Append the explicitly desired passthrough values for each chunk\n",
    "            for col_name in DESIRED_PASSTHROUGH_COLUMNS:\n",
    "                if col_name in examples:\n",
    "                    tiled_desired_passthrough_data[col_name].append(current_doc_passthrough_values[col_name])\n",
    "    \n",
    "    output_dict = {\n",
    "        \"input_ids\": all_input_ids,\n",
    "        \"attention_mask\": all_attention_mask,\n",
    "        \"labels\": all_labels,\n",
    "    }\n",
    "    for col_name, data_list in tiled_desired_passthrough_data.items():\n",
    "        output_dict[col_name] = data_list\n",
    "        \n",
    "    return output_dict\n",
    "\n",
    "# Create HuggingFace datasets\n",
    "hf_train = Dataset.from_list(train_docs)\n",
    "hf_dev = Dataset.from_list(dev_docs)\n",
    "\n",
    "\n",
    "# --- Refine output_features definition using hf_train.features ---\n",
    "if hf_train:\n",
    "    original_features = hf_train.features\n",
    "    for col_name in DESIRED_PASSTHROUGH_COLUMNS:\n",
    "        if col_name in original_features:\n",
    "            feature_definitions_for_map_output[col_name] = original_features[col_name]\n",
    "        elif col_name == \"aug_type\" and \"aug_type\" not in original_features :\n",
    "            feature_definitions_for_map_output[col_name] = Value(\"string\")\n",
    "\n",
    "\n",
    "output_features = Features(feature_definitions_for_map_output)\n",
    "print(f\"Defined output features for .map(): {output_features}\")\n",
    "# Define columns to remove from the ORIGINAL dataset..\n",
    "columns_to_remove_from_original_dataset = [\n",
    "    col for col in hf_train.column_names \n",
    "    if col not in output_features.keys()\n",
    "]\n",
    "\n",
    "if 'doc' not in columns_to_remove_from_original_dataset:\n",
    "    columns_to_remove_from_original_dataset.append('doc')\n",
    "if 'entities' not in columns_to_remove_from_original_dataset:\n",
    "    columns_to_remove_from_original_dataset.append('entities')\n",
    "\n",
    "# Ensure no duplicates if columns_to_remove already contained them.\n",
    "final_train_cols_to_remove = sorted(list(set(columns_to_remove_from_original_dataset)))\n",
    "final_dev_cols_to_remove = [col for col in final_train_cols_to_remove if col in hf_dev.column_names]\n",
    "\n",
    "print(f\"Columns to be removed from hf_train after mapping: {final_train_cols_to_remove}\")\n",
    "\n",
    "tokenized_train = hf_train.map(\n",
    "    tokenize_and_align_labels,\n",
    "    batched=True,\n",
    "    batch_size=100,\n",
    "    remove_columns=final_train_cols_to_remove, \n",
    "    load_from_cache_file=False,\n",
    "    features=output_features\n",
    ")\n",
    "\n",
    "tokenized_dev = hf_dev.map(\n",
    "    tokenize_and_align_labels,\n",
    "    batched=True,\n",
    "    batch_size=100,\n",
    "    remove_columns=final_dev_cols_to_remove,\n",
    "    load_from_cache_file=False,\n",
    "    features=output_features\n",
    ")\n",
    "\n",
    "print(f\"Tokenized dataset sizes - Train: {len(tokenized_train)}, Dev: {len(tokenized_dev)}\")"
   ]
  },
  {
   "cell_type": "markdown",
   "id": "7ad21fc8-a4a1-4566-9257-46ed82a1f0aa",
   "metadata": {},
   "source": [
    "## 5. METRICS AND DATA COLLATOR"
   ]
  },
  {
   "cell_type": "code",
   "execution_count": 8,
   "id": "9f4fe3bf-6a30-4a04-bfa2-6ac969369207",
   "metadata": {
    "execution": {
     "iopub.execute_input": "2025-05-29T08:56:10.515273Z",
     "iopub.status.busy": "2025-05-29T08:56:10.514989Z",
     "iopub.status.idle": "2025-05-29T08:56:10.520255Z",
     "shell.execute_reply": "2025-05-29T08:56:10.519603Z",
     "shell.execute_reply.started": "2025-05-29T08:56:10.515253Z"
    },
    "trusted": true
   },
   "outputs": [],
   "source": [
    "# Data collator for padding\n",
    "data_collator = DataCollatorForTokenClassification(tokenizer)\n",
    "\n",
    "def compute_metrics(eval_pred):\n",
    "    \"\"\"Compute precision, recall, and F1 for NER.\"\"\"\n",
    "    predictions, labels = eval_pred\n",
    "    predictions = np.argmax(predictions, axis=-1)\n",
    "    \n",
    "    # Flatten and remove special tokens (-100)\n",
    "    predictions = predictions.flatten()\n",
    "    labels = labels.flatten()\n",
    "    mask = labels != -100\n",
    "    \n",
    "    predictions = predictions[mask]\n",
    "    labels = labels[mask]\n",
    "    \n",
    "    # Compute metrics\n",
    "    precision, recall, f1, _ = precision_recall_fscore_support(\n",
    "        labels, predictions, average='micro', zero_division=0\n",
    "    )\n",
    "    accuracy = accuracy_score(labels, predictions)\n",
    "    \n",
    "    return {\n",
    "        \"precision\": precision,\n",
    "        \"recall\": recall,\n",
    "        \"f1\": f1,\n",
    "        \"accuracy\": accuracy\n",
    "    }"
   ]
  },
  {
   "cell_type": "markdown",
   "id": "752ede33-d531-4515-b3ba-21aa11f1345c",
   "metadata": {},
   "source": [
    "## 6. BASELINE MODEL TRAINING"
   ]
  },
  {
   "cell_type": "code",
   "execution_count": 11,
   "id": "41fc40e6-23df-4872-ac9e-48386eab3048",
   "metadata": {
    "execution": {
     "iopub.execute_input": "2025-05-29T09:00:47.352751Z",
     "iopub.status.busy": "2025-05-29T09:00:47.352046Z",
     "iopub.status.idle": "2025-05-29T09:02:58.944090Z",
     "shell.execute_reply": "2025-05-29T09:02:58.943487Z",
     "shell.execute_reply.started": "2025-05-29T09:00:47.352728Z"
    },
    "trusted": true
   },
   "outputs": [
    {
     "name": "stderr",
     "output_type": "stream",
     "text": [
      "Some weights of BertForTokenClassification were not initialized from the model checkpoint at bert-base-uncased and are newly initialized: ['classifier.bias', 'classifier.weight']\n",
      "You should probably TRAIN this model on a down-stream task to be able to use it for predictions and inference.\n"
     ]
    },
    {
     "name": "stdout",
     "output_type": "stream",
     "text": [
      "\n",
      "==================================================\n",
      "TRAINING BASELINE MODEL\n",
      "==================================================\n"
     ]
    },
    {
     "name": "stderr",
     "output_type": "stream",
     "text": [
      "/tmp/ipykernel_35/1897915768.py:35: FutureWarning: `tokenizer` is deprecated and will be removed in version 5.0.0 for `Trainer.__init__`. Use `processing_class` instead.\n",
      "  baseline_trainer = Trainer(\n",
      "/usr/local/lib/python3.11/dist-packages/torch/nn/parallel/_functions.py:70: UserWarning: Was asked to gather along dimension 0, but all input tensors were scalars; will instead unsqueeze and return a vector.\n",
      "  warnings.warn(\n"
     ]
    },
    {
     "data": {
      "text/html": [
       "\n",
       "    <div>\n",
       "      \n",
       "      <progress value='60' max='60' style='width:300px; height:20px; vertical-align: middle;'></progress>\n",
       "      [60/60 02:01, Epoch 3/3]\n",
       "    </div>\n",
       "    <table border=\"1\" class=\"dataframe\">\n",
       "  <thead>\n",
       " <tr style=\"text-align: left;\">\n",
       "      <th>Epoch</th>\n",
       "      <th>Training Loss</th>\n",
       "      <th>Validation Loss</th>\n",
       "      <th>Precision</th>\n",
       "      <th>Recall</th>\n",
       "      <th>F1</th>\n",
       "      <th>Accuracy</th>\n",
       "    </tr>\n",
       "  </thead>\n",
       "  <tbody>\n",
       "    <tr>\n",
       "      <td>1</td>\n",
       "      <td>No log</td>\n",
       "      <td>0.543038</td>\n",
       "      <td>0.891699</td>\n",
       "      <td>0.891699</td>\n",
       "      <td>0.891699</td>\n",
       "      <td>0.891699</td>\n",
       "    </tr>\n",
       "    <tr>\n",
       "      <td>2</td>\n",
       "      <td>No log</td>\n",
       "      <td>0.474552</td>\n",
       "      <td>0.892774</td>\n",
       "      <td>0.892774</td>\n",
       "      <td>0.892774</td>\n",
       "      <td>0.892774</td>\n",
       "    </tr>\n",
       "    <tr>\n",
       "      <td>3</td>\n",
       "      <td>0.857100</td>\n",
       "      <td>0.453883</td>\n",
       "      <td>0.895956</td>\n",
       "      <td>0.895956</td>\n",
       "      <td>0.895956</td>\n",
       "      <td>0.895956</td>\n",
       "    </tr>\n",
       "  </tbody>\n",
       "</table><p>"
      ],
      "text/plain": [
       "<IPython.core.display.HTML object>"
      ]
     },
     "metadata": {},
     "output_type": "display_data"
    },
    {
     "name": "stderr",
     "output_type": "stream",
     "text": [
      "/usr/local/lib/python3.11/dist-packages/torch/nn/parallel/_functions.py:70: UserWarning: Was asked to gather along dimension 0, but all input tensors were scalars; will instead unsqueeze and return a vector.\n",
      "  warnings.warn(\n",
      "/usr/local/lib/python3.11/dist-packages/torch/nn/parallel/_functions.py:70: UserWarning: Was asked to gather along dimension 0, but all input tensors were scalars; will instead unsqueeze and return a vector.\n",
      "  warnings.warn(\n",
      "/usr/local/lib/python3.11/dist-packages/torch/nn/parallel/_functions.py:70: UserWarning: Was asked to gather along dimension 0, but all input tensors were scalars; will instead unsqueeze and return a vector.\n",
      "  warnings.warn(\n"
     ]
    },
    {
     "data": {
      "text/html": [
       "\n",
       "    <div>\n",
       "      \n",
       "      <progress value='5' max='5' style='width:300px; height:20px; vertical-align: middle;'></progress>\n",
       "      [5/5 00:04]\n",
       "    </div>\n",
       "    "
      ],
      "text/plain": [
       "<IPython.core.display.HTML object>"
      ]
     },
     "metadata": {},
     "output_type": "display_data"
    },
    {
     "name": "stdout",
     "output_type": "stream",
     "text": [
      "\n",
      "Baseline Results:\n",
      "F1: 0.8960\n",
      "Precision: 0.8960\n",
      "Recall: 0.8960\n"
     ]
    }
   ],
   "source": [
    "print(\"\\n\" + \"=\"*50)\n",
    "print(\"TRAINING BASELINE MODEL\")\n",
    "print(\"=\"*50)\n",
    "\n",
    "# Initialize model\n",
    "baseline_model = AutoModelForTokenClassification.from_pretrained(\n",
    "    model_name,\n",
    "    num_labels=len(ner_labels),\n",
    "    id2label=id2label,\n",
    "    label2id=label2id,\n",
    ")\n",
    "\n",
    "# Training arguments\n",
    "# In cell 9\n",
    "baseline_args = TrainingArguments(\n",
    "    output_dir=\"outputs/bert-ner-baseline\",\n",
    "    num_train_epochs=3,\n",
    "    per_device_train_batch_size=16,\n",
    "    per_device_eval_batch_size=32,\n",
    "    learning_rate=5e-5,\n",
    "    weight_decay=0.01,\n",
    "    eval_strategy=\"epoch\", # Changed from evaluation_strategy\n",
    "    save_strategy=\"epoch\",\n",
    "    logging_dir=\"logs\",\n",
    "    logging_steps=50,\n",
    "    save_total_limit=2,\n",
    "    load_best_model_at_end=True,\n",
    "    metric_for_best_model=\"f1\",\n",
    "    greater_is_better=True,\n",
    "    fp16=torch.cuda.is_available(),\n",
    "    report_to=\"none\",\n",
    ")\n",
    "\n",
    "# Create trainer\n",
    "baseline_trainer = Trainer(\n",
    "    model=baseline_model,\n",
    "    args=baseline_args,\n",
    "    train_dataset=tokenized_train,\n",
    "    eval_dataset=tokenized_dev,\n",
    "    data_collator=data_collator,\n",
    "    tokenizer=tokenizer,\n",
    "    compute_metrics=compute_metrics,\n",
    ")\n",
    "\n",
    "# Train\n",
    "baseline_trainer.train()\n",
    "\n",
    "# Evaluate\n",
    "baseline_results = baseline_trainer.evaluate()\n",
    "print(f\"\\nBaseline Results:\")\n",
    "print(f\"F1: {baseline_results['eval_f1']:.4f}\")\n",
    "print(f\"Precision: {baseline_results['eval_precision']:.4f}\")\n",
    "print(f\"Recall: {baseline_results['eval_recall']:.4f}\")\n"
   ]
  },
  {
   "cell_type": "markdown",
   "id": "e95daf6b-c17e-4674-8e91-d2fe16e3abd5",
   "metadata": {},
   "source": [
    "## 7. FINE-TUNING WITH BEST HYPERPARAMETERS"
   ]
  },
  {
   "cell_type": "code",
   "execution_count": 16,
   "id": "2046f559-c3f2-409b-bd96-93c12a734edb",
   "metadata": {
    "execution": {
     "iopub.execute_input": "2025-05-29T09:04:58.937427Z",
     "iopub.status.busy": "2025-05-29T09:04:58.937127Z",
     "iopub.status.idle": "2025-05-29T09:04:58.942355Z",
     "shell.execute_reply": "2025-05-29T09:04:58.941591Z",
     "shell.execute_reply.started": "2025-05-29T09:04:58.937409Z"
    },
    "trusted": true
   },
   "outputs": [],
   "source": [
    "# Based on your hyperparameter tuning results:\n",
    "best_hyperparams = {\n",
    "    \"full_ft\": {\n",
    "        \"learning_rate\": 4.358610256985791e-05,\n",
    "        \"batch_size\": 16,\n",
    "        \"method_name\": \"Full Fine-Tuning\"\n",
    "    },\n",
    "    \"lora\": {\n",
    "        \"learning_rate\": 2.220149951658828e-05,\n",
    "        \"r\": 16,\n",
    "        \"alpha\": 16,\n",
    "        \"dropout\": 0.015844640852335577,\n",
    "        \"batch_size\": 8,\n",
    "        \"method_name\": \"LoRA\"\n",
    "    },\n",
    "    \"partial_freeze\": {\n",
    "        \"freeze_pct\": 0.5,\n",
    "        \"learning_rate\": 3.2302001133689886e-05,\n",
    "        \"batch_size\": 16,\n",
    "        \"method_name\": \"Partial Freeze\"\n",
    "    }\n",
    "}\n",
    "\n",
    "results_summary = {\n",
    "    \"baseline\": baseline_results\n",
    "}"
   ]
  },
  {
   "cell_type": "markdown",
   "id": "c4923174-fe12-4d94-9e3e-602ac0601dff",
   "metadata": {},
   "source": [
    "## 7.1 FULL FINE-TUNING\n"
   ]
  },
  {
   "cell_type": "code",
   "execution_count": 17,
   "id": "3f5ef2c0-334d-448a-b7e8-dda5f51f5fd4",
   "metadata": {
    "execution": {
     "iopub.execute_input": "2025-05-29T09:06:34.078166Z",
     "iopub.status.busy": "2025-05-29T09:06:34.077362Z",
     "iopub.status.idle": "2025-05-29T09:10:21.022995Z",
     "shell.execute_reply": "2025-05-29T09:10:21.022367Z",
     "shell.execute_reply.started": "2025-05-29T09:06:34.078140Z"
    },
    "trusted": true
   },
   "outputs": [
    {
     "name": "stderr",
     "output_type": "stream",
     "text": [
      "Some weights of BertForTokenClassification were not initialized from the model checkpoint at bert-base-uncased and are newly initialized: ['classifier.bias', 'classifier.weight']\n",
      "You should probably TRAIN this model on a down-stream task to be able to use it for predictions and inference.\n"
     ]
    },
    {
     "name": "stdout",
     "output_type": "stream",
     "text": [
      "\n",
      "==================================================\n",
      "FULL FINE-TUNING WITH BEST PARAMETERS\n",
      "==================================================\n"
     ]
    },
    {
     "name": "stderr",
     "output_type": "stream",
     "text": [
      "/tmp/ipykernel_35/1824228818.py:29: FutureWarning: `tokenizer` is deprecated and will be removed in version 5.0.0 for `Trainer.__init__`. Use `processing_class` instead.\n",
      "  ft_trainer = Trainer(\n",
      "/usr/local/lib/python3.11/dist-packages/torch/nn/parallel/_functions.py:70: UserWarning: Was asked to gather along dimension 0, but all input tensors were scalars; will instead unsqueeze and return a vector.\n",
      "  warnings.warn(\n"
     ]
    },
    {
     "data": {
      "text/html": [
       "\n",
       "    <div>\n",
       "      \n",
       "      <progress value='100' max='100' style='width:300px; height:20px; vertical-align: middle;'></progress>\n",
       "      [100/100 03:38, Epoch 5/5]\n",
       "    </div>\n",
       "    <table border=\"1\" class=\"dataframe\">\n",
       "  <thead>\n",
       " <tr style=\"text-align: left;\">\n",
       "      <th>Step</th>\n",
       "      <th>Training Loss</th>\n",
       "      <th>Validation Loss</th>\n",
       "      <th>Precision</th>\n",
       "      <th>Recall</th>\n",
       "      <th>F1</th>\n",
       "      <th>Accuracy</th>\n",
       "    </tr>\n",
       "  </thead>\n",
       "  <tbody>\n",
       "    <tr>\n",
       "      <td>20</td>\n",
       "      <td>1.336200</td>\n",
       "      <td>0.593735</td>\n",
       "      <td>0.891699</td>\n",
       "      <td>0.891699</td>\n",
       "      <td>0.891699</td>\n",
       "      <td>0.891699</td>\n",
       "    </tr>\n",
       "    <tr>\n",
       "      <td>40</td>\n",
       "      <td>0.713900</td>\n",
       "      <td>0.474320</td>\n",
       "      <td>0.891838</td>\n",
       "      <td>0.891838</td>\n",
       "      <td>0.891838</td>\n",
       "      <td>0.891838</td>\n",
       "    </tr>\n",
       "    <tr>\n",
       "      <td>60</td>\n",
       "      <td>0.590200</td>\n",
       "      <td>0.425129</td>\n",
       "      <td>0.898983</td>\n",
       "      <td>0.898983</td>\n",
       "      <td>0.898983</td>\n",
       "      <td>0.898983</td>\n",
       "    </tr>\n",
       "    <tr>\n",
       "      <td>80</td>\n",
       "      <td>0.513000</td>\n",
       "      <td>0.406340</td>\n",
       "      <td>0.899716</td>\n",
       "      <td>0.899716</td>\n",
       "      <td>0.899716</td>\n",
       "      <td>0.899716</td>\n",
       "    </tr>\n",
       "    <tr>\n",
       "      <td>100</td>\n",
       "      <td>0.468000</td>\n",
       "      <td>0.394827</td>\n",
       "      <td>0.899154</td>\n",
       "      <td>0.899154</td>\n",
       "      <td>0.899154</td>\n",
       "      <td>0.899154</td>\n",
       "    </tr>\n",
       "  </tbody>\n",
       "</table><p>"
      ],
      "text/plain": [
       "<IPython.core.display.HTML object>"
      ]
     },
     "metadata": {},
     "output_type": "display_data"
    },
    {
     "name": "stderr",
     "output_type": "stream",
     "text": [
      "/usr/local/lib/python3.11/dist-packages/torch/nn/parallel/_functions.py:70: UserWarning: Was asked to gather along dimension 0, but all input tensors were scalars; will instead unsqueeze and return a vector.\n",
      "  warnings.warn(\n",
      "/usr/local/lib/python3.11/dist-packages/torch/nn/parallel/_functions.py:70: UserWarning: Was asked to gather along dimension 0, but all input tensors were scalars; will instead unsqueeze and return a vector.\n",
      "  warnings.warn(\n",
      "/usr/local/lib/python3.11/dist-packages/torch/nn/parallel/_functions.py:70: UserWarning: Was asked to gather along dimension 0, but all input tensors were scalars; will instead unsqueeze and return a vector.\n",
      "  warnings.warn(\n",
      "/usr/local/lib/python3.11/dist-packages/torch/nn/parallel/_functions.py:70: UserWarning: Was asked to gather along dimension 0, but all input tensors were scalars; will instead unsqueeze and return a vector.\n",
      "  warnings.warn(\n",
      "/usr/local/lib/python3.11/dist-packages/torch/nn/parallel/_functions.py:70: UserWarning: Was asked to gather along dimension 0, but all input tensors were scalars; will instead unsqueeze and return a vector.\n",
      "  warnings.warn(\n"
     ]
    },
    {
     "data": {
      "text/html": [],
      "text/plain": [
       "<IPython.core.display.HTML object>"
      ]
     },
     "metadata": {},
     "output_type": "display_data"
    },
    {
     "name": "stdout",
     "output_type": "stream",
     "text": [
      "\n",
      "Full Fine-Tuning Results:\n",
      "F1: 0.8992\n"
     ]
    }
   ],
   "source": [
    "print(\"\\n\" + \"=\"*50)\n",
    "print(\"FULL FINE-TUNING WITH BEST PARAMETERS\")\n",
    "print(\"=\"*50)\n",
    "\n",
    "# Create fresh model\n",
    "ft_model = AutoModelForTokenClassification.from_pretrained(\n",
    "    model_name,\n",
    "    num_labels=len(ner_labels),\n",
    "    id2label=id2label,\n",
    "    label2id=label2id,\n",
    ")\n",
    "\n",
    "# Training arguments with best hyperparameters\n",
    "ft_args = TrainingArguments(\n",
    "    output_dir=\"outputs/bert-ner-full-ft-final\",\n",
    "    max_steps=100,  # Fixed budget for fair comparison\n",
    "    per_device_train_batch_size=best_hyperparams[\"full_ft\"][\"batch_size\"],\n",
    "    per_device_eval_batch_size=32,\n",
    "    learning_rate=best_hyperparams[\"full_ft\"][\"learning_rate\"],\n",
    "    eval_strategy=\"steps\",\n",
    "    eval_steps=20,\n",
    "    save_strategy=\"no\",\n",
    "    logging_steps=20,\n",
    "    fp16=torch.cuda.is_available(),\n",
    "    report_to=\"none\",\n",
    ")\n",
    "\n",
    "# Train\n",
    "ft_trainer = Trainer(\n",
    "    model=ft_model,\n",
    "    args=ft_args,\n",
    "    train_dataset=tokenized_train,\n",
    "    eval_dataset=tokenized_dev,\n",
    "    data_collator=data_collator,\n",
    "    tokenizer=tokenizer,\n",
    "    compute_metrics=compute_metrics,\n",
    ")\n",
    "\n",
    "ft_trainer.train()\n",
    "ft_results = ft_trainer.evaluate()\n",
    "results_summary[\"full_ft\"] = ft_results\n",
    "\n",
    "print(f\"\\nFull Fine-Tuning Results:\")\n",
    "print(f\"F1: {ft_results['eval_f1']:.4f}\")"
   ]
  },
  {
   "cell_type": "markdown",
   "id": "1af03c2c-992f-452c-b3c0-530de911c5a1",
   "metadata": {},
   "source": [
    "## 7.2 LoRA FINE-TUNING"
   ]
  },
  {
   "cell_type": "code",
   "execution_count": 18,
   "id": "d3b78fd6-dc6c-41ff-b2a4-64278bc19674",
   "metadata": {
    "execution": {
     "iopub.execute_input": "2025-05-29T09:10:21.024391Z",
     "iopub.status.busy": "2025-05-29T09:10:21.024113Z",
     "iopub.status.idle": "2025-05-29T09:12:16.443474Z",
     "shell.execute_reply": "2025-05-29T09:12:16.442862Z",
     "shell.execute_reply.started": "2025-05-29T09:10:21.024363Z"
    },
    "trusted": true
   },
   "outputs": [
    {
     "name": "stderr",
     "output_type": "stream",
     "text": [
      "Some weights of BertForTokenClassification were not initialized from the model checkpoint at bert-base-uncased and are newly initialized: ['classifier.bias', 'classifier.weight']\n",
      "You should probably TRAIN this model on a down-stream task to be able to use it for predictions and inference.\n"
     ]
    },
    {
     "name": "stdout",
     "output_type": "stream",
     "text": [
      "\n",
      "==================================================\n",
      "LoRA FINE-TUNING WITH BEST PARAMETERS\n",
      "==================================================\n",
      "trainable params: 619,815 || all params: 109,541,454 || trainable%: 0.5658\n"
     ]
    },
    {
     "name": "stderr",
     "output_type": "stream",
     "text": [
      "/tmp/ipykernel_35/3089146369.py:45: FutureWarning: `tokenizer` is deprecated and will be removed in version 5.0.0 for `Trainer.__init__`. Use `processing_class` instead.\n",
      "  lora_trainer = Trainer(\n",
      "No label_names provided for model class `PeftModelForTokenClassification`. Since `PeftModel` hides base models input arguments, if label_names is not given, label_names can't be set automatically within `Trainer`. Note that empty label_names list will be used instead.\n",
      "/usr/local/lib/python3.11/dist-packages/torch/nn/parallel/_functions.py:70: UserWarning: Was asked to gather along dimension 0, but all input tensors were scalars; will instead unsqueeze and return a vector.\n",
      "  warnings.warn(\n"
     ]
    },
    {
     "data": {
      "text/html": [
       "\n",
       "    <div>\n",
       "      \n",
       "      <progress value='100' max='100' style='width:300px; height:20px; vertical-align: middle;'></progress>\n",
       "      [100/100 01:47, Epoch 2/3]\n",
       "    </div>\n",
       "    <table border=\"1\" class=\"dataframe\">\n",
       "  <thead>\n",
       " <tr style=\"text-align: left;\">\n",
       "      <th>Step</th>\n",
       "      <th>Training Loss</th>\n",
       "      <th>Validation Loss</th>\n",
       "      <th>Precision</th>\n",
       "      <th>Recall</th>\n",
       "      <th>F1</th>\n",
       "      <th>Accuracy</th>\n",
       "    </tr>\n",
       "  </thead>\n",
       "  <tbody>\n",
       "    <tr>\n",
       "      <td>20</td>\n",
       "      <td>3.691900</td>\n",
       "      <td>3.598104</td>\n",
       "      <td>0.018711</td>\n",
       "      <td>0.018711</td>\n",
       "      <td>0.018711</td>\n",
       "      <td>0.018711</td>\n",
       "    </tr>\n",
       "    <tr>\n",
       "      <td>40</td>\n",
       "      <td>3.578600</td>\n",
       "      <td>3.487993</td>\n",
       "      <td>0.053910</td>\n",
       "      <td>0.053910</td>\n",
       "      <td>0.053910</td>\n",
       "      <td>0.053910</td>\n",
       "    </tr>\n",
       "    <tr>\n",
       "      <td>60</td>\n",
       "      <td>3.485700</td>\n",
       "      <td>3.400384</td>\n",
       "      <td>0.108219</td>\n",
       "      <td>0.108219</td>\n",
       "      <td>0.108219</td>\n",
       "      <td>0.108219</td>\n",
       "    </tr>\n",
       "    <tr>\n",
       "      <td>80</td>\n",
       "      <td>3.426200</td>\n",
       "      <td>3.343504</td>\n",
       "      <td>0.157726</td>\n",
       "      <td>0.157726</td>\n",
       "      <td>0.157726</td>\n",
       "      <td>0.157726</td>\n",
       "    </tr>\n",
       "    <tr>\n",
       "      <td>100</td>\n",
       "      <td>3.388200</td>\n",
       "      <td>3.323048</td>\n",
       "      <td>0.178016</td>\n",
       "      <td>0.178016</td>\n",
       "      <td>0.178016</td>\n",
       "      <td>0.178016</td>\n",
       "    </tr>\n",
       "  </tbody>\n",
       "</table><p>"
      ],
      "text/plain": [
       "<IPython.core.display.HTML object>"
      ]
     },
     "metadata": {},
     "output_type": "display_data"
    },
    {
     "name": "stderr",
     "output_type": "stream",
     "text": [
      "/usr/local/lib/python3.11/dist-packages/torch/nn/parallel/_functions.py:70: UserWarning: Was asked to gather along dimension 0, but all input tensors were scalars; will instead unsqueeze and return a vector.\n",
      "  warnings.warn(\n",
      "/usr/local/lib/python3.11/dist-packages/torch/nn/parallel/_functions.py:70: UserWarning: Was asked to gather along dimension 0, but all input tensors were scalars; will instead unsqueeze and return a vector.\n",
      "  warnings.warn(\n",
      "/usr/local/lib/python3.11/dist-packages/torch/nn/parallel/_functions.py:70: UserWarning: Was asked to gather along dimension 0, but all input tensors were scalars; will instead unsqueeze and return a vector.\n",
      "  warnings.warn(\n",
      "/usr/local/lib/python3.11/dist-packages/torch/nn/parallel/_functions.py:70: UserWarning: Was asked to gather along dimension 0, but all input tensors were scalars; will instead unsqueeze and return a vector.\n",
      "  warnings.warn(\n",
      "/usr/local/lib/python3.11/dist-packages/torch/nn/parallel/_functions.py:70: UserWarning: Was asked to gather along dimension 0, but all input tensors were scalars; will instead unsqueeze and return a vector.\n",
      "  warnings.warn(\n"
     ]
    },
    {
     "data": {
      "text/html": [
       "\n",
       "    <div>\n",
       "      \n",
       "      <progress value='9' max='9' style='width:300px; height:20px; vertical-align: middle;'></progress>\n",
       "      [9/9 00:05]\n",
       "    </div>\n",
       "    "
      ],
      "text/plain": [
       "<IPython.core.display.HTML object>"
      ]
     },
     "metadata": {},
     "output_type": "display_data"
    },
    {
     "name": "stdout",
     "output_type": "stream",
     "text": [
      "\n",
      "LoRA Results:\n",
      "F1: 0.1780\n"
     ]
    }
   ],
   "source": [
    "print(\"\\n\" + \"=\"*50)\n",
    "print(\"LoRA FINE-TUNING WITH BEST PARAMETERS\")\n",
    "print(\"=\"*50)\n",
    "\n",
    "from peft import LoraConfig, get_peft_model, TaskType\n",
    "\n",
    "# Create fresh model\n",
    "base_model = AutoModelForTokenClassification.from_pretrained(\n",
    "    model_name,\n",
    "    num_labels=len(ner_labels),\n",
    "    id2label=id2label,\n",
    "    label2id=label2id,\n",
    ")\n",
    "\n",
    "# LoRA configuration\n",
    "lora_config = LoraConfig(\n",
    "    task_type=TaskType.TOKEN_CLS,\n",
    "    inference_mode=False,\n",
    "    r=best_hyperparams[\"lora\"][\"r\"],\n",
    "    lora_alpha=best_hyperparams[\"lora\"][\"alpha\"],\n",
    "    lora_dropout=best_hyperparams[\"lora\"][\"dropout\"],\n",
    "    target_modules=[\"query\", \"value\"],  # BERT-specific\n",
    ")\n",
    "\n",
    "# Apply LoRA\n",
    "lora_model = get_peft_model(base_model, lora_config)\n",
    "lora_model.print_trainable_parameters()\n",
    "\n",
    "# Training arguments\n",
    "lora_args = TrainingArguments(\n",
    "    output_dir=\"outputs/bert-ner-lora-final\",\n",
    "    max_steps=100,\n",
    "    per_device_train_batch_size=best_hyperparams[\"lora\"][\"batch_size\"],\n",
    "    per_device_eval_batch_size=16,\n",
    "    learning_rate=best_hyperparams[\"lora\"][\"learning_rate\"],\n",
    "    eval_strategy=\"steps\",\n",
    "    eval_steps=20,\n",
    "    save_strategy=\"no\",\n",
    "    logging_steps=20,\n",
    "    fp16=torch.cuda.is_available(),\n",
    "    report_to=\"none\",\n",
    ")\n",
    "\n",
    "# Train\n",
    "lora_trainer = Trainer(\n",
    "    model=lora_model,\n",
    "    args=lora_args,\n",
    "    train_dataset=tokenized_train,\n",
    "    eval_dataset=tokenized_dev,\n",
    "    data_collator=data_collator,\n",
    "    tokenizer=tokenizer,\n",
    "    compute_metrics=compute_metrics,\n",
    ")\n",
    "\n",
    "lora_trainer.train()\n",
    "lora_results = lora_trainer.evaluate()\n",
    "results_summary[\"lora\"] = lora_results\n",
    "\n",
    "print(f\"\\nLoRA Results:\")\n",
    "print(f\"F1: {lora_results['eval_f1']:.4f}\")\n"
   ]
  },
  {
   "cell_type": "markdown",
   "id": "699308d0-094b-41a8-b33a-7a1f43129b2a",
   "metadata": {},
   "source": [
    "## 7.3 PARTIAL FREEZE FINE-TUNING"
   ]
  },
  {
   "cell_type": "code",
   "execution_count": 19,
   "id": "827e90ed-fcb3-469e-bcfb-916b10583c02",
   "metadata": {
    "execution": {
     "iopub.execute_input": "2025-05-29T09:12:16.444404Z",
     "iopub.status.busy": "2025-05-29T09:12:16.444171Z",
     "iopub.status.idle": "2025-05-29T09:15:17.399862Z",
     "shell.execute_reply": "2025-05-29T09:15:17.399225Z",
     "shell.execute_reply.started": "2025-05-29T09:12:16.444388Z"
    },
    "trusted": true
   },
   "outputs": [
    {
     "name": "stderr",
     "output_type": "stream",
     "text": [
      "Some weights of BertForTokenClassification were not initialized from the model checkpoint at bert-base-uncased and are newly initialized: ['classifier.bias', 'classifier.weight']\n",
      "You should probably TRAIN this model on a down-stream task to be able to use it for predictions and inference.\n"
     ]
    },
    {
     "name": "stdout",
     "output_type": "stream",
     "text": [
      "\n",
      "==================================================\n",
      "PARTIAL FREEZE FINE-TUNING WITH BEST PARAMETERS\n",
      "==================================================\n",
      "Trainable parameters: 23,867,175 / 108,921,639 (21.91%)\n"
     ]
    },
    {
     "name": "stderr",
     "output_type": "stream",
     "text": [
      "/tmp/ipykernel_35/1425522905.py:45: FutureWarning: `tokenizer` is deprecated and will be removed in version 5.0.0 for `Trainer.__init__`. Use `processing_class` instead.\n",
      "  freeze_trainer = Trainer(\n",
      "/usr/local/lib/python3.11/dist-packages/torch/nn/parallel/_functions.py:70: UserWarning: Was asked to gather along dimension 0, but all input tensors were scalars; will instead unsqueeze and return a vector.\n",
      "  warnings.warn(\n"
     ]
    },
    {
     "data": {
      "text/html": [
       "\n",
       "    <div>\n",
       "      \n",
       "      <progress value='100' max='100' style='width:300px; height:20px; vertical-align: middle;'></progress>\n",
       "      [100/100 02:53, Epoch 5/5]\n",
       "    </div>\n",
       "    <table border=\"1\" class=\"dataframe\">\n",
       "  <thead>\n",
       " <tr style=\"text-align: left;\">\n",
       "      <th>Step</th>\n",
       "      <th>Training Loss</th>\n",
       "      <th>Validation Loss</th>\n",
       "      <th>Precision</th>\n",
       "      <th>Recall</th>\n",
       "      <th>F1</th>\n",
       "      <th>Accuracy</th>\n",
       "    </tr>\n",
       "  </thead>\n",
       "  <tbody>\n",
       "    <tr>\n",
       "      <td>20</td>\n",
       "      <td>3.819600</td>\n",
       "      <td>3.732594</td>\n",
       "      <td>0.010442</td>\n",
       "      <td>0.010442</td>\n",
       "      <td>0.010442</td>\n",
       "      <td>0.010442</td>\n",
       "    </tr>\n",
       "    <tr>\n",
       "      <td>40</td>\n",
       "      <td>3.655500</td>\n",
       "      <td>3.583329</td>\n",
       "      <td>0.039692</td>\n",
       "      <td>0.039692</td>\n",
       "      <td>0.039692</td>\n",
       "      <td>0.039692</td>\n",
       "    </tr>\n",
       "    <tr>\n",
       "      <td>60</td>\n",
       "      <td>3.532800</td>\n",
       "      <td>3.474048</td>\n",
       "      <td>0.095092</td>\n",
       "      <td>0.095092</td>\n",
       "      <td>0.095092</td>\n",
       "      <td>0.095092</td>\n",
       "    </tr>\n",
       "    <tr>\n",
       "      <td>80</td>\n",
       "      <td>3.445900</td>\n",
       "      <td>3.406168</td>\n",
       "      <td>0.148009</td>\n",
       "      <td>0.148009</td>\n",
       "      <td>0.148009</td>\n",
       "      <td>0.148009</td>\n",
       "    </tr>\n",
       "    <tr>\n",
       "      <td>100</td>\n",
       "      <td>3.400900</td>\n",
       "      <td>3.382259</td>\n",
       "      <td>0.170122</td>\n",
       "      <td>0.170122</td>\n",
       "      <td>0.170122</td>\n",
       "      <td>0.170122</td>\n",
       "    </tr>\n",
       "  </tbody>\n",
       "</table><p>"
      ],
      "text/plain": [
       "<IPython.core.display.HTML object>"
      ]
     },
     "metadata": {},
     "output_type": "display_data"
    },
    {
     "name": "stderr",
     "output_type": "stream",
     "text": [
      "/usr/local/lib/python3.11/dist-packages/torch/nn/parallel/_functions.py:70: UserWarning: Was asked to gather along dimension 0, but all input tensors were scalars; will instead unsqueeze and return a vector.\n",
      "  warnings.warn(\n",
      "/usr/local/lib/python3.11/dist-packages/torch/nn/parallel/_functions.py:70: UserWarning: Was asked to gather along dimension 0, but all input tensors were scalars; will instead unsqueeze and return a vector.\n",
      "  warnings.warn(\n",
      "/usr/local/lib/python3.11/dist-packages/torch/nn/parallel/_functions.py:70: UserWarning: Was asked to gather along dimension 0, but all input tensors were scalars; will instead unsqueeze and return a vector.\n",
      "  warnings.warn(\n",
      "/usr/local/lib/python3.11/dist-packages/torch/nn/parallel/_functions.py:70: UserWarning: Was asked to gather along dimension 0, but all input tensors were scalars; will instead unsqueeze and return a vector.\n",
      "  warnings.warn(\n",
      "/usr/local/lib/python3.11/dist-packages/torch/nn/parallel/_functions.py:70: UserWarning: Was asked to gather along dimension 0, but all input tensors were scalars; will instead unsqueeze and return a vector.\n",
      "  warnings.warn(\n"
     ]
    },
    {
     "data": {
      "text/html": [
       "\n",
       "    <div>\n",
       "      \n",
       "      <progress value='5' max='5' style='width:300px; height:20px; vertical-align: middle;'></progress>\n",
       "      [5/5 00:04]\n",
       "    </div>\n",
       "    "
      ],
      "text/plain": [
       "<IPython.core.display.HTML object>"
      ]
     },
     "metadata": {},
     "output_type": "display_data"
    },
    {
     "name": "stdout",
     "output_type": "stream",
     "text": [
      "\n",
      "Partial Freeze Results:\n",
      "F1: 0.1701\n"
     ]
    }
   ],
   "source": [
    "print(\"\\n\" + \"=\"*50)\n",
    "print(\"PARTIAL FREEZE FINE-TUNING WITH BEST PARAMETERS\")\n",
    "print(\"=\"*50)\n",
    "\n",
    "# Create fresh model\n",
    "freeze_model = AutoModelForTokenClassification.from_pretrained(\n",
    "    model_name,\n",
    "    num_labels=len(ner_labels),\n",
    "    id2label=id2label,\n",
    "    label2id=label2id,\n",
    ")\n",
    "\n",
    "# Freeze bottom 50% of layers\n",
    "freeze_pct = best_hyperparams[\"partial_freeze\"][\"freeze_pct\"]\n",
    "num_layers = len([n for n, _ in freeze_model.named_parameters() if \"encoder.layer\" in n]) // 2\n",
    "freeze_until = int(num_layers * freeze_pct)\n",
    "\n",
    "for name, param in freeze_model.named_parameters():\n",
    "    if \"encoder.layer\" in name:\n",
    "        layer_num = int(name.split(\".\")[3])\n",
    "        if layer_num < freeze_until:\n",
    "            param.requires_grad = False\n",
    "\n",
    "# Count trainable parameters\n",
    "trainable_params = sum(p.numel() for p in freeze_model.parameters() if p.requires_grad)\n",
    "total_params = sum(p.numel() for p in freeze_model.parameters())\n",
    "print(f\"Trainable parameters: {trainable_params:,} / {total_params:,} ({trainable_params/total_params*100:.2f}%)\")\n",
    "\n",
    "# Training arguments\n",
    "freeze_args = TrainingArguments(\n",
    "    output_dir=\"outputs/bert-ner-freeze-final\",\n",
    "    max_steps=100,\n",
    "    per_device_train_batch_size=best_hyperparams[\"partial_freeze\"][\"batch_size\"],\n",
    "    per_device_eval_batch_size=32,\n",
    "    learning_rate=best_hyperparams[\"partial_freeze\"][\"learning_rate\"],\n",
    "    eval_strategy=\"steps\",\n",
    "    eval_steps=20,\n",
    "    save_strategy=\"no\",\n",
    "    logging_steps=20,\n",
    "    fp16=torch.cuda.is_available(),\n",
    "    report_to=\"none\",\n",
    ")\n",
    "\n",
    "# Train\n",
    "freeze_trainer = Trainer(\n",
    "    model=freeze_model,\n",
    "    args=freeze_args,\n",
    "    train_dataset=tokenized_train,\n",
    "    eval_dataset=tokenized_dev,\n",
    "    data_collator=data_collator,\n",
    "    tokenizer=tokenizer,\n",
    "    compute_metrics=compute_metrics,\n",
    ")\n",
    "\n",
    "freeze_trainer.train()\n",
    "freeze_results = freeze_trainer.evaluate()\n",
    "results_summary[\"partial_freeze\"] = freeze_results\n",
    "\n",
    "print(f\"\\nPartial Freeze Results:\")\n",
    "print(f\"F1: {freeze_results['eval_f1']:.4f}\")\n"
   ]
  },
  {
   "cell_type": "markdown",
   "id": "926a17fd-16f9-404e-8ccf-e07a414d7be0",
   "metadata": {},
   "source": [
    "## 8. RESULTS COMPARISON"
   ]
  },
  {
   "cell_type": "code",
   "execution_count": 20,
   "id": "3f39c796-5fc8-4355-980a-604e60841ae9",
   "metadata": {
    "execution": {
     "iopub.execute_input": "2025-05-29T09:15:17.401818Z",
     "iopub.status.busy": "2025-05-29T09:15:17.401609Z",
     "iopub.status.idle": "2025-05-29T09:15:17.418955Z",
     "shell.execute_reply": "2025-05-29T09:15:17.418218Z",
     "shell.execute_reply.started": "2025-05-29T09:15:17.401800Z"
    },
    "trusted": true
   },
   "outputs": [
    {
     "name": "stdout",
     "output_type": "stream",
     "text": [
      "\n",
      "==================================================\n",
      "RESULTS COMPARISON\n",
      "==================================================\n",
      "        Method    F1  Precision  Recall  Accuracy\n",
      "      Baseline 89.60      89.60   89.60     89.60\n",
      "       Full Ft 89.92      89.92   89.92     89.92\n",
      "          Lora 17.80      17.80   17.80     17.80\n",
      "Partial Freeze 17.01      17.01   17.01     17.01\n"
     ]
    }
   ],
   "source": [
    "\n",
    "print(\"\\n\" + \"=\"*50)\n",
    "print(\"RESULTS COMPARISON\")\n",
    "print(\"=\"*50)\n",
    "\n",
    "# Create comparison table\n",
    "import pandas as pd\n",
    "\n",
    "comparison_data = []\n",
    "for method, results in results_summary.items():\n",
    "    comparison_data.append({\n",
    "        \"Method\": method.replace(\"_\", \" \").title(),\n",
    "        \"F1\": results.get(\"eval_f1\", 0) * 100,\n",
    "        \"Precision\": results.get(\"eval_precision\", 0) * 100,\n",
    "        \"Recall\": results.get(\"eval_recall\", 0) * 100,\n",
    "        \"Accuracy\": results.get(\"eval_accuracy\", 0) * 100,\n",
    "    })\n",
    "\n",
    "comparison_df = pd.DataFrame(comparison_data)\n",
    "comparison_df = comparison_df.round(2)\n",
    "print(comparison_df.to_string(index=False))"
   ]
  },
  {
   "cell_type": "markdown",
   "id": "b36460f2-1d1c-4ad3-9cd0-430eb62f6a3c",
   "metadata": {},
   "source": [
    "## 9. VISUALIZATION"
   ]
  },
  {
   "cell_type": "code",
   "execution_count": 21,
   "id": "bfa9117c-5417-439d-b59c-5e63802f6411",
   "metadata": {
    "execution": {
     "iopub.execute_input": "2025-05-29T09:15:17.419960Z",
     "iopub.status.busy": "2025-05-29T09:15:17.419761Z",
     "iopub.status.idle": "2025-05-29T09:15:17.963928Z",
     "shell.execute_reply": "2025-05-29T09:15:17.963221Z",
     "shell.execute_reply.started": "2025-05-29T09:15:17.419944Z"
    },
    "trusted": true
   },
   "outputs": [
    {
     "data": {
      "image/png": "[encoded data removed]",
      "text/plain": [
       "<Figure size 1000x600 with 1 Axes>"
      ]
     },
     "metadata": {},
     "output_type": "display_data"
    }
   ],
   "source": [
    "# Bar plot for F1 scores\n",
    "plt.figure(figsize=(10, 6))\n",
    "methods = comparison_df[\"Method\"].tolist()\n",
    "f1_scores = comparison_df[\"F1\"].tolist()\n",
    "\n",
    "bars = plt.bar(methods, f1_scores, color=['#1f77b4', '#ff7f0e', '#2ca02c', '#d62728'])\n",
    "plt.ylabel('F1 Score (%)', fontsize=12)\n",
    "plt.title('BERT NER Performance Comparison', fontsize=14)\n",
    "plt.ylim(0, 100)\n",
    "\n",
    "# Add value labels on bars\n",
    "for bar, score in zip(bars, f1_scores):\n",
    "    plt.text(bar.get_x() + bar.get_width()/2, bar.get_height() + 1, \n",
    "             f'{score:.1f}%', ha='center', va='bottom')\n",
    "\n",
    "plt.tight_layout()\n",
    "plt.savefig('outputs/bert_ner_comparison.png', dpi=300, bbox_inches='tight')\n",
    "plt.show()"
   ]
  },
  {
   "cell_type": "markdown",
   "id": "c527174d-89e7-463c-b972-a506bcb37aa3",
   "metadata": {},
   "source": [
    "## 10. TEST SET EVALUATION (FINAL MODEL)"
   ]
  },
  {
   "cell_type": "code",
   "execution_count": 22,
   "id": "539a8921-be3a-471e-b61f-5cd6f170e03e",
   "metadata": {
    "execution": {
     "iopub.execute_input": "2025-05-29T09:15:17.964825Z",
     "iopub.status.busy": "2025-05-29T09:15:17.964629Z",
     "iopub.status.idle": "2025-05-29T09:15:33.934821Z",
     "shell.execute_reply": "2025-05-29T09:15:33.934201Z",
     "shell.execute_reply.started": "2025-05-29T09:15:17.964809Z"
    },
    "trusted": true
   },
   "outputs": [
    {
     "name": "stdout",
     "output_type": "stream",
     "text": [
      "\n",
      "==================================================\n",
      "FINAL TEST SET EVALUATION\n",
      "==================================================\n"
     ]
    },
    {
     "data": {
      "application/vnd.jupyter.widget-view+json": {
       "model_id": "0ad68afd3cb141fbb8cc5590965da0e6",
       "version_major": 2,
       "version_minor": 0
      },
      "text/plain": [
       "Map:   0%|          | 0/248 [00:00<?, ? examples/s]"
      ]
     },
     "metadata": {},
     "output_type": "display_data"
    },
    {
     "name": "stderr",
     "output_type": "stream",
     "text": [
      "/usr/local/lib/python3.11/dist-packages/torch/nn/parallel/_functions.py:70: UserWarning: Was asked to gather along dimension 0, but all input tensors were scalars; will instead unsqueeze and return a vector.\n",
      "  warnings.warn(\n"
     ]
    },
    {
     "name": "stdout",
     "output_type": "stream",
     "text": [
      "Generated predictions for 731 test examples\n"
     ]
    }
   ],
   "source": [
    "print(\"\\n\" + \"=\"*50)\n",
    "print(\"FINAL TEST SET EVALUATION\")\n",
    "print(\"=\"*50)\n",
    "\n",
    "# Use the best performing model (full fine-tuning based on your results)\n",
    "# Note: For test set, we need to handle the different structure\n",
    "test_examples = []\n",
    "for doc in test_docs:\n",
    "    # Test docs have different structure\n",
    "    text = doc.get(\"document\", doc.get(\"doc\", \"\"))\n",
    "    if text:\n",
    "        test_examples.append({\n",
    "            \"doc\": text,\n",
    "            \"entities\": [],  # No labels in test set\n",
    "            \"id\": doc.get(\"id\", \"\")\n",
    "        })\n",
    "\n",
    "hf_test_for_inference = Dataset.from_list(test_examples)\n",
    "\n",
    "# Tokenize test set\n",
    "tokenized_test = hf_test_for_inference.map(\n",
    "    tokenize_and_align_labels,\n",
    "    batched=True,\n",
    "    remove_columns=hf_test_for_inference.column_names\n",
    ")\n",
    "\n",
    "# Get predictions from best model\n",
    "test_predictions = ft_trainer.predict(tokenized_test)\n",
    "predictions = np.argmax(test_predictions.predictions, axis=-1)\n",
    "\n",
    "# Convert predictions back to labels\n",
    "predicted_labels = []\n",
    "for pred_seq in predictions:\n",
    "    labels = [id2label[p] for p in pred_seq if p != -100]\n",
    "    predicted_labels.append(labels)\n",
    "\n",
    "print(f\"Generated predictions for {len(predicted_labels)} test examples\")"
   ]
  },
  {
   "cell_type": "markdown",
   "id": "61dc1ef4-c26f-4de8-bf54-a38bdc3879ea",
   "metadata": {},
   "source": [
    "## 11. SAVE RESULTS"
   ]
  },
  {
   "cell_type": "code",
   "execution_count": 23,
   "id": "e9a3bb3e-23fe-487f-9b48-b4e4f700bd9d",
   "metadata": {
    "execution": {
     "iopub.execute_input": "2025-05-29T09:15:33.935800Z",
     "iopub.status.busy": "2025-05-29T09:15:33.935564Z",
     "iopub.status.idle": "2025-05-29T09:15:34.680994Z",
     "shell.execute_reply": "2025-05-29T09:15:34.680219Z",
     "shell.execute_reply.started": "2025-05-29T09:15:33.935774Z"
    },
    "trusted": true
   },
   "outputs": [
    {
     "name": "stdout",
     "output_type": "stream",
     "text": [
      "\n",
      "✅ All results saved to outputs/\n",
      "📊 Visualization saved as bert_ner_comparison.png\n",
      "💾 Best model saved to outputs/bert-ner-best-model/\n"
     ]
    }
   ],
   "source": [
    "# Save comparison table\n",
    "comparison_df.to_csv(\"outputs/bert_ner_results.csv\", index=False)\n",
    "\n",
    "# Save best model\n",
    "ft_trainer.save_model(\"outputs/bert-ner-best-model\")\n",
    "tokenizer.save_pretrained(\"outputs/bert-ner-best-model\")\n",
    "\n",
    "# Save predictions\n",
    "import json\n",
    "with open(\"outputs/bert_ner_test_predictions.json\", \"w\") as f:\n",
    "    json.dump({\n",
    "        \"predictions\": predicted_labels[:10],  # Sample\n",
    "        \"model\": \"bert-base-uncased\",\n",
    "        \"task\": \"NER\",\n",
    "        \"best_f1\": float(ft_results['eval_f1'])\n",
    "    }, f, indent=2)\n",
    "\n",
    "print(\"\\n✅ All results saved to outputs/\")\n",
    "print(\"📊 Visualization saved as bert_ner_comparison.png\")\n",
    "print(\"💾 Best model saved to outputs/bert-ner-best-model/\")"
   ]
  },
  {
   "cell_type": "code",
   "execution_count": null,
   "id": "bd851544-22a3-48e2-be25-90abcac0daec",
   "metadata": {
    "trusted": true
   },
   "outputs": [],
   "source": []
  }
 ],
 "metadata": {
  "kaggle": {
   "accelerator": "nvidiaTeslaT4",
   "dataSources": [
    {
     "datasetId": 7543282,
     "sourceId": 11992746,
     "sourceType": "datasetVersion"
    }
   ],
   "dockerImageVersionId": 31041,
   "isGpuEnabled": true,
   "isInternetEnabled": true,
   "language": "python",
   "sourceType": "notebook"
  },
  "kernelspec": {
   "display_name": "Python 3 (ipykernel)",
   "language": "python",
   "name": "python3"
  },
  "language_info": {
   "codemirror_mode": {
    "name": "ipython",
    "version": 3
   },
   "file_extension": ".py",
   "mimetype": "text/x-python",
   "name": "python",
   "nbconvert_exporter": "python",
   "pygments_lexer": "ipython3",
   "version": "3.11.7"
  }
 },
 "nbformat": 4,
 "nbformat_minor": 5
}
